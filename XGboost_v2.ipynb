{
 "cells": [
  {
   "cell_type": "markdown",
   "metadata": {
    "collapsed": true,
    "deletable": true,
    "editable": true
   },
   "source": [
    "<h1 id=\"tocheading\">Fraud Detection with XGBoost and Machine Learning in DSX Local</h1>\n",
    "<div id=\"toc\"></div>\n"
   ]
  },
  {
   "cell_type": "code",
   "execution_count": 288,
   "metadata": {
    "collapsed": false,
    "deletable": true,
    "editable": true
   },
   "outputs": [
    {
     "data": {
      "application/javascript": [
       "$.getScript('https://kmahelona.github.io/ipython_notebook_goodies/ipython_notebook_toc.js')"
      ],
      "text/plain": [
       "<IPython.core.display.Javascript object>"
      ]
     },
     "metadata": {},
     "output_type": "display_data"
    }
   ],
   "source": [
    "%%javascript\n",
    "$.getScript('https://kmahelona.github.io/ipython_notebook_goodies/ipython_notebook_toc.js')"
   ]
  },
  {
   "cell_type": "code",
   "execution_count": 289,
   "metadata": {
    "collapsed": true
   },
   "outputs": [],
   "source": [
    "#run the line above to generate Table of Contents if it's not there"
   ]
  },
  {
   "cell_type": "markdown",
   "metadata": {
    "deletable": true,
    "editable": true
   },
   "source": [
    "## Imports"
   ]
  },
  {
   "cell_type": "code",
   "execution_count": 285,
   "metadata": {
    "collapsed": false,
    "deletable": true,
    "editable": true
   },
   "outputs": [
    {
     "name": "stdout",
     "output_type": "stream",
     "text": [
      "0.7.post3\n"
     ]
    }
   ],
   "source": [
    "import xgboost\n",
    "print(xgboost.__version__)\n",
    "import numpy as np\n",
    "import pandas as pd\n",
    "from xgboost import XGBClassifier\n",
    "from sklearn.metrics import roc_auc_score, confusion_matrix, classification_report\n",
    "from sklearn.pipeline import Pipeline\n",
    "from sklearn.preprocessing import LabelBinarizer\n",
    "from sklearn_pandas import DataFrameMapper\n",
    "import brunel\n",
    "\n",
    "import matplotlib.pyplot as plt\n",
    "%matplotlib inline"
   ]
  },
  {
   "cell_type": "markdown",
   "metadata": {
    "deletable": true,
    "editable": true
   },
   "source": [
    "## Load Data"
   ]
  },
  {
   "cell_type": "code",
   "execution_count": 8,
   "metadata": {
    "collapsed": false,
    "deletable": true,
    "editable": true
   },
   "outputs": [
    {
     "data": {
      "text/html": [
       "<div>\n",
       "<style scoped>\n",
       "    .dataframe tbody tr th:only-of-type {\n",
       "        vertical-align: middle;\n",
       "    }\n",
       "\n",
       "    .dataframe tbody tr th {\n",
       "        vertical-align: top;\n",
       "    }\n",
       "\n",
       "    .dataframe thead th {\n",
       "        text-align: right;\n",
       "    }\n",
       "</style>\n",
       "<table border=\"1\" class=\"dataframe\">\n",
       "  <thead>\n",
       "    <tr style=\"text-align: right;\">\n",
       "      <th></th>\n",
       "      <th>Dollar_Amount</th>\n",
       "      <th>Transaction_Type</th>\n",
       "      <th>Store_Type</th>\n",
       "      <th>Cardholder_Region</th>\n",
       "      <th>Country</th>\n",
       "      <th>Fraudulent</th>\n",
       "      <th>Last3hourTransactions</th>\n",
       "      <th>Hours_Since_Last_Transaction</th>\n",
       "    </tr>\n",
       "  </thead>\n",
       "  <tbody>\n",
       "    <tr>\n",
       "      <th>0</th>\n",
       "      <td>188.56</td>\n",
       "      <td>swiped</td>\n",
       "      <td>ATM Withdrawal</td>\n",
       "      <td>E</td>\n",
       "      <td>USA</td>\n",
       "      <td>F</td>\n",
       "      <td>4</td>\n",
       "      <td>21</td>\n",
       "    </tr>\n",
       "    <tr>\n",
       "      <th>1</th>\n",
       "      <td>160.54</td>\n",
       "      <td>keyed</td>\n",
       "      <td>Grocery</td>\n",
       "      <td>NE</td>\n",
       "      <td>Australia</td>\n",
       "      <td>F</td>\n",
       "      <td>3</td>\n",
       "      <td>21</td>\n",
       "    </tr>\n",
       "    <tr>\n",
       "      <th>2</th>\n",
       "      <td>153.24</td>\n",
       "      <td>swiped</td>\n",
       "      <td>Retail - Pharmacy</td>\n",
       "      <td>SW</td>\n",
       "      <td>European Union</td>\n",
       "      <td>T</td>\n",
       "      <td>2</td>\n",
       "      <td>21</td>\n",
       "    </tr>\n",
       "    <tr>\n",
       "      <th>3</th>\n",
       "      <td>148.66</td>\n",
       "      <td>keyed</td>\n",
       "      <td>Communications - telephone and wireless</td>\n",
       "      <td>NW</td>\n",
       "      <td>USA</td>\n",
       "      <td>F</td>\n",
       "      <td>1</td>\n",
       "      <td>35</td>\n",
       "    </tr>\n",
       "    <tr>\n",
       "      <th>4</th>\n",
       "      <td>174.03</td>\n",
       "      <td>keyed</td>\n",
       "      <td>Spa/Beauty</td>\n",
       "      <td>SW</td>\n",
       "      <td>Asia</td>\n",
       "      <td>F</td>\n",
       "      <td>1</td>\n",
       "      <td>25</td>\n",
       "    </tr>\n",
       "  </tbody>\n",
       "</table>\n",
       "</div>"
      ],
      "text/plain": [
       "   Dollar_Amount Transaction_Type                               Store_Type  \\\n",
       "0         188.56           swiped                           ATM Withdrawal   \n",
       "1         160.54            keyed                                  Grocery   \n",
       "2         153.24           swiped                        Retail - Pharmacy   \n",
       "3         148.66            keyed  Communications - telephone and wireless   \n",
       "4         174.03            keyed                               Spa/Beauty   \n",
       "\n",
       "  Cardholder_Region         Country Fraudulent  Last3hourTransactions  \\\n",
       "0                 E             USA          F                      4   \n",
       "1                NE       Australia          F                      3   \n",
       "2                SW  European Union          T                      2   \n",
       "3                NW             USA          F                      1   \n",
       "4                SW            Asia          F                      1   \n",
       "\n",
       "   Hours_Since_Last_Transaction  \n",
       "0                            21  \n",
       "1                            21  \n",
       "2                            21  \n",
       "3                            35  \n",
       "4                            25  "
      ]
     },
     "execution_count": 8,
     "metadata": {},
     "output_type": "execute_result"
    }
   ],
   "source": [
    "import os, pandas as pd\n",
    "# Add asset from file system\n",
    "df_data_1 = pd.read_csv(os.environ['DSX_PROJECT_DIR']+'/datasets/History_Transactions_v4.csv')\n",
    "# only keep variables we will use later\n",
    "df_data_1 = df_data_1[['Dollar_Amount', \n",
    "                       'Transaction_Type',\n",
    "                       'Store_Type', \n",
    "                       'Cardholder_Region', \n",
    "                       'Country',\n",
    "                       'Fraudulent',\n",
    "                       'Last3hourTransactions',\n",
    "                       'Hours_Since_Last_Transaction'\n",
    "                      ]]\n",
    "df_data_1.head()"
   ]
  },
  {
   "cell_type": "markdown",
   "metadata": {
    "deletable": true,
    "editable": true
   },
   "source": [
    "## Exploratory Data Analysis"
   ]
  },
  {
   "cell_type": "code",
   "execution_count": 21,
   "metadata": {
    "collapsed": false,
    "deletable": true,
    "editable": true
   },
   "outputs": [
    {
     "data": {
      "text/plain": [
       "Dollar_Amount                   0\n",
       "Transaction_Type                0\n",
       "Store_Type                      0\n",
       "Cardholder_Region               0\n",
       "Country                         0\n",
       "Fraudulent                      0\n",
       "Last3hourTransactions           0\n",
       "Hours_Since_Last_Transaction    0\n",
       "dtype: int64"
      ]
     },
     "execution_count": 21,
     "metadata": {},
     "output_type": "execute_result"
    }
   ],
   "source": [
    "# check missing\n",
    "df_data_1.apply(lambda x: sum(x.isnull()))"
   ]
  },
  {
   "cell_type": "code",
   "execution_count": 25,
   "metadata": {
    "collapsed": false,
    "deletable": true,
    "editable": true,
    "scrolled": false
   },
   "outputs": [
    {
     "name": "stdout",
     "output_type": "stream",
     "text": [
      "****************************************\n",
      "\n",
      "Frequency count for variable Fraudulent\n",
      "F    52132\n",
      "T     2903\n",
      "Name: Fraudulent, dtype: int64\n",
      "****************************************\n",
      "\n",
      "Frequency count for variable Transaction_Type\n",
      "swiped    27623\n",
      "keyed     27412\n",
      "Name: Transaction_Type, dtype: int64\n",
      "****************************************\n",
      "\n",
      "Frequency count for variable Store_Type\n",
      "Restaurant                                 4470\n",
      "Professional Services                      3443\n",
      "Grocery                                    3403\n",
      "Gas                                        3261\n",
      "Other                                      3226\n",
      "Hotel                                      3206\n",
      "Retail - Apparel                           2276\n",
      "ATM Withdrawal                             2240\n",
      "Retail - Furniture                         2232\n",
      "Entertainment and Arts                     2207\n",
      "Retail - Home Improvement                  2194\n",
      "Retail - Drug Store                        2193\n",
      "Communications - telephone and wireless    2191\n",
      "Medical                                    2181\n",
      "Retail - Home Electronics                  2161\n",
      "Retail - Pharmacy                          2127\n",
      "Retail - Toys                              1134\n",
      "Education and Instruction                  1129\n",
      "Retail - Floral                            1110\n",
      "Utilities                                  1107\n",
      "Retail - Weapons                           1102\n",
      "Retail - Office and School Supplies        1097\n",
      "e-Retail                                   1095\n",
      "Retail - Convenience Store                 1093\n",
      "Retail - Books                             1081\n",
      "Retail - Jewelry and Watches               1057\n",
      "Spa/Beauty                                 1019\n",
      "Name: Store_Type, dtype: int64\n",
      "****************************************\n",
      "\n",
      "Frequency count for variable Cardholder_Region\n",
      "E     7139\n",
      "N     6946\n",
      "NE    6915\n",
      "S     6896\n",
      "W     6830\n",
      "SW    6804\n",
      "SE    6763\n",
      "NW    6742\n",
      "Name: Cardholder_Region, dtype: int64\n",
      "****************************************\n",
      "\n",
      "Frequency count for variable Country\n",
      "USA               27728\n",
      "Asia               9239\n",
      "European Union     9064\n",
      "Australia          9004\n",
      "Name: Country, dtype: int64\n"
     ]
    }
   ],
   "source": [
    "# Look at categorical variables\n",
    "var = ['Fraudulent', 'Transaction_Type', 'Store_Type', 'Cardholder_Region', 'Country']\n",
    "for v in var:\n",
    "    print(\"****************************************\")\n",
    "    print('\\nFrequency count for variable %s'%v)\n",
    "    print(df_data_1[v].value_counts())"
   ]
  },
  {
   "cell_type": "markdown",
   "metadata": {
    "deletable": true,
    "editable": true
   },
   "source": [
    "## Split into Training and Test"
   ]
  },
  {
   "cell_type": "code",
   "execution_count": 9,
   "metadata": {
    "collapsed": false,
    "deletable": true,
    "editable": true
   },
   "outputs": [
    {
     "name": "stdout",
     "output_type": "stream",
     "text": [
      "Number of training records: 44028\n",
      "Number of testing records : 11007\n"
     ]
    },
    {
     "name": "stderr",
     "output_type": "stream",
     "text": [
      "/opt/conda/lib/python3.5/site-packages/sklearn/cross_validation.py:41: DeprecationWarning: This module was deprecated in version 0.18 in favor of the model_selection module into which all the refactored classes and functions are moved. Also note that the interface of the new CV iterators are different from that of this module. This module will be removed in 0.20.\n",
      "  \"This module will be removed in 0.20.\", DeprecationWarning)\n"
     ]
    }
   ],
   "source": [
    "y = df_data_1['Fraudulent'].map(lambda l: 1 if l == 'T' else 0)\n",
    "X = df_data_1.drop(['Fraudulent'], axis=1)\n",
    "\n",
    "from sklearn.cross_validation import train_test_split \n",
    "\n",
    "X_train, X_test, y_train, y_test = train_test_split(X, y, test_size=0.2, random_state=1234567)\n",
    "\n",
    "print(\"Number of training records: \" + str(len(X_train)))\n",
    "print(\"Number of testing records : \" + str(len(X_test)))"
   ]
  },
  {
   "cell_type": "markdown",
   "metadata": {
    "deletable": true,
    "editable": true
   },
   "source": [
    "## Handle Imbalance using SMOTE(only on Training set)"
   ]
  },
  {
   "cell_type": "code",
   "execution_count": 12,
   "metadata": {
    "collapsed": false,
    "deletable": true,
    "editable": true
   },
   "outputs": [
    {
     "name": "stdout",
     "output_type": "stream",
     "text": [
      "Collecting imblearn\n",
      "  Downloading imblearn-0.0-py2.py3-none-any.whl\n",
      "Collecting imbalanced-learn (from imblearn)\n",
      "  Downloading imbalanced_learn-0.3.3-py3-none-any.whl (144kB)\n",
      "\u001b[K    100% |████████████████████████████████| 153kB 995kB/s eta 0:00:01\n",
      "\u001b[?25hRequirement already satisfied: numpy in /opt/conda/lib/python3.5/site-packages (from imbalanced-learn->imblearn)\n",
      "Requirement already satisfied: scikit-learn in /opt/conda/lib/python3.5/site-packages (from imbalanced-learn->imblearn)\n",
      "Requirement already satisfied: scipy in /opt/conda/lib/python3.5/site-packages (from imbalanced-learn->imblearn)\n",
      "Installing collected packages: imbalanced-learn, imblearn\n",
      "Successfully installed imbalanced-learn-0.3.3 imblearn-0.0\n"
     ]
    }
   ],
   "source": [
    "!pip install imblearn"
   ]
  },
  {
   "cell_type": "code",
   "execution_count": 13,
   "metadata": {
    "collapsed": false,
    "deletable": true,
    "editable": true
   },
   "outputs": [],
   "source": [
    "# restart kernel if see error\n",
    "from imblearn.over_sampling import SMOTE"
   ]
  },
  {
   "cell_type": "code",
   "execution_count": 14,
   "metadata": {
    "collapsed": false,
    "deletable": true,
    "editable": true
   },
   "outputs": [
    {
     "name": "stdout",
     "output_type": "stream",
     "text": [
      "Fraud/Non-Fraud Ratio Before SMOTE: 0.0523303352412\n",
      "Fraud/Non-Fraud Ratio After SMOTE: 0.5\n",
      "Fraud in Training after SMOTE = T: 41724\n",
      "Fraud in Training after SMOTE = F: 41724\n",
      "\n",
      "************Test Set************\n",
      "\n",
      "Number of testing records : 11007\n",
      "Training: T = : 599\n",
      "Training: F = :10408\n"
     ]
    }
   ],
   "source": [
    "X_train_dummy = pd.get_dummies(X_train)\n",
    "sm = SMOTE(random_state=2662761, ratio = 'auto', k_neighbors = 5)\n",
    "X_train_res, y_train_res = sm.fit_sample(X_train_dummy, y_train)\n",
    "#smote only deals with continuous variable\n",
    "X_train_res_rounded = X_train_res.round()\n",
    "\n",
    "\n",
    "print('Fraud/Non-Fraud Ratio Before SMOTE: ' + str(y_train.sum()/len(y_train)))\n",
    "print('Fraud/Non-Fraud Ratio After SMOTE: ' + str(y_train_res.sum()/len(y_train_res)))\n",
    "\n",
    "print(\"Fraud in Training after SMOTE = T: \" + str(sum(y_train_res)))\n",
    "print(\"Fraud in Training after SMOTE = F: \" + str(len(y_train_res) - sum(y_train_res)))\n",
    "print(\"\\n************Test Set************\\n\")\n",
    "print(\"Number of testing records : \" + str(len(X_test)))\n",
    "print(\"Training: T = : \" + str(sum(y_test)))\n",
    "print(\"Training: F = :\" + str(len(y_test) - sum(y_test)))"
   ]
  },
  {
   "cell_type": "code",
   "execution_count": 15,
   "metadata": {
    "collapsed": true,
    "deletable": true,
    "editable": true
   },
   "outputs": [],
   "source": [
    "# currently SMOTE from imblearn only supports continuous variable only, round generated value to 0/1 for binary variables as a walkaround\n",
    "for i in range(len(X_train_res)):\n",
    "    X_train_res[i][1:] = X_train_res[i][1:].round()"
   ]
  },
  {
   "cell_type": "code",
   "execution_count": 141,
   "metadata": {
    "collapsed": false,
    "deletable": true,
    "editable": true
   },
   "outputs": [],
   "source": [
    "# in order to build pipeline, we need to reverse the matrix returned by SMOTE to df\n",
    "X_train_df = pd.DataFrame(X_train_res)\n",
    "X_train_df.columns = pd.get_dummies(X_train).columns.tolist()\n",
    "\n",
    "X_train_df['Transaction_Type'] = X_train_df[['Transaction_Type_keyed', 'Transaction_Type_swiped']].idxmax(axis=1).map(lambda l: l.replace('Transaction_Type_', ''))\n",
    "X_train_df['Store_Type'] = X_train_df[['Store_Type_ATM Withdrawal',\n",
    "       'Store_Type_Communications - telephone and wireless',\n",
    "       'Store_Type_Education and Instruction',\n",
    "       'Store_Type_Entertainment and Arts', 'Store_Type_Gas',\n",
    "       'Store_Type_Grocery', 'Store_Type_Hotel', 'Store_Type_Medical',\n",
    "       'Store_Type_Other', 'Store_Type_Professional Services',\n",
    "       'Store_Type_Restaurant', 'Store_Type_Retail - Apparel',\n",
    "       'Store_Type_Retail - Books', 'Store_Type_Retail - Convenience Store',\n",
    "       'Store_Type_Retail - Drug Store', 'Store_Type_Retail - Floral',\n",
    "       'Store_Type_Retail - Furniture', 'Store_Type_Retail - Home Electronics',\n",
    "       'Store_Type_Retail - Home Improvement',\n",
    "       'Store_Type_Retail - Jewelry and Watches',\n",
    "       'Store_Type_Retail - Office and School Supplies',\n",
    "       'Store_Type_Retail - Pharmacy', 'Store_Type_Retail - Toys',\n",
    "       'Store_Type_Retail - Weapons', 'Store_Type_Spa/Beauty',\n",
    "       'Store_Type_Utilities', 'Store_Type_e-Retail']].idxmax(axis=1).map(lambda l: l.replace('Store_Type_', ''))\n",
    "\n",
    "X_train_df['Country'] = X_train_df[['Country_Asia', 'Country_Australia',\n",
    "       'Country_European Union', 'Country_USA']].idxmax(axis=1).map(lambda l: l.replace('Country_', ''))\n",
    "\n",
    "X_train_df['Cardholder_Region'] = X_train_df[['Cardholder_Region_E',\n",
    "       'Cardholder_Region_N', 'Cardholder_Region_NE', 'Cardholder_Region_NW',\n",
    "       'Cardholder_Region_S', 'Cardholder_Region_SE', 'Cardholder_Region_SW',\n",
    "       'Cardholder_Region_W']].idxmax(axis=1).map(lambda l: l.replace('Cardholder_Region_', ''))\n",
    "\n",
    "X_train_df = X_train_df.drop(['Transaction_Type_keyed', 'Transaction_Type_swiped', 'Store_Type_ATM Withdrawal',\n",
    "       'Store_Type_Communications - telephone and wireless',\n",
    "       'Store_Type_Education and Instruction',\n",
    "       'Store_Type_Entertainment and Arts', 'Store_Type_Gas',\n",
    "       'Store_Type_Grocery', 'Store_Type_Hotel', 'Store_Type_Medical',\n",
    "       'Store_Type_Other', 'Store_Type_Professional Services',\n",
    "       'Store_Type_Restaurant', 'Store_Type_Retail - Apparel',\n",
    "       'Store_Type_Retail - Books', 'Store_Type_Retail - Convenience Store',\n",
    "       'Store_Type_Retail - Drug Store', 'Store_Type_Retail - Floral',\n",
    "       'Store_Type_Retail - Furniture', 'Store_Type_Retail - Home Electronics',\n",
    "       'Store_Type_Retail - Home Improvement',\n",
    "       'Store_Type_Retail - Jewelry and Watches',\n",
    "       'Store_Type_Retail - Office and School Supplies',\n",
    "       'Store_Type_Retail - Pharmacy', 'Store_Type_Retail - Toys',\n",
    "       'Store_Type_Retail - Weapons', 'Store_Type_Spa/Beauty',\n",
    "       'Store_Type_Utilities', 'Store_Type_e-Retail', 'Country_Asia', 'Country_Australia',\n",
    "       'Country_European Union', 'Country_USA', 'Cardholder_Region_E',\n",
    "       'Cardholder_Region_N', 'Cardholder_Region_NE', 'Cardholder_Region_NW',\n",
    "       'Cardholder_Region_S', 'Cardholder_Region_SE', 'Cardholder_Region_SW',\n",
    "       'Cardholder_Region_W'], 1)"
   ]
  },
  {
   "cell_type": "markdown",
   "metadata": {
    "deletable": true,
    "editable": true
   },
   "source": [
    "## XGboost\n",
    "\n",
    "The hyperparameters are set as following, the same as Modeler's setting."
   ]
  },
  {
   "cell_type": "markdown",
   "metadata": {
    "deletable": true,
    "editable": true
   },
   "source": [
    "### Build Pipeline"
   ]
  },
  {
   "cell_type": "code",
   "execution_count": 147,
   "metadata": {
    "collapsed": true,
    "deletable": true,
    "editable": true
   },
   "outputs": [],
   "source": [
    "mapper1 = DataFrameMapper(\n",
    "    [('Transaction_Type', LabelBinarizer()),\n",
    "     ('Store_Type', LabelBinarizer()),\n",
    "     ('Cardholder_Region', LabelBinarizer()),\n",
    "     ('Country', LabelBinarizer())\n",
    "     ])"
   ]
  },
  {
   "cell_type": "code",
   "execution_count": 148,
   "metadata": {
    "collapsed": false,
    "deletable": true,
    "editable": true
   },
   "outputs": [],
   "source": [
    "# build pipeline\n",
    "pipeline = Pipeline([('mapper', mapper1), ('classifier', XGBClassifier(tree_method= \"auto\",\n",
    "    n_estimators = 10,\n",
    "    max_depth = 6,\n",
    "    min_child_weight = 1.0,\n",
    "    max_delta_step = 0.0,\n",
    "    objective = \"binary:logistic\",\n",
    "    seed = 6924827,\n",
    "    subsample = 1.0,\n",
    "    learning_rate = .3,\n",
    "    gamma = 0.0,\n",
    "    colsample_bytree = 1.0,\n",
    "    colsample_bylevel = 1.0,\n",
    "    reg_lambda = 1.0,\n",
    "    reg_alpha = 0.0,\n",
    "    scale_pos_weight = 1.0))])"
   ]
  },
  {
   "cell_type": "code",
   "execution_count": 149,
   "metadata": {
    "collapsed": false,
    "deletable": true,
    "editable": true
   },
   "outputs": [
    {
     "data": {
      "text/plain": [
       "Pipeline(memory=None,\n",
       "     steps=[('mapper', DataFrameMapper(default=False, df_out=False,\n",
       "        features=[('Transaction_Type', LabelBinarizer(neg_label=0, pos_label=1, sparse_output=False)), ('Store_Type', LabelBinarizer(neg_label=0, pos_label=1, sparse_output=False)), ('Cardholder_Region', LabelBinarizer(neg_label=0, pos_l...da=1.0, scale_pos_weight=1.0, seed=6924827, silent=True,\n",
       "       subsample=1.0, tree_method='auto'))])"
      ]
     },
     "execution_count": 149,
     "metadata": {},
     "output_type": "execute_result"
    }
   ],
   "source": [
    "# fit ppl\n",
    "pipeline.fit(X_train_df, y_train_res)"
   ]
  },
  {
   "cell_type": "markdown",
   "metadata": {
    "deletable": true,
    "editable": true
   },
   "source": [
    "### Plot Feature Importance"
   ]
  },
  {
   "cell_type": "code",
   "execution_count": 287,
   "metadata": {
    "collapsed": false,
    "deletable": true,
    "editable": true
   },
   "outputs": [
    {
     "data": {
      "text/plain": [
       "<matplotlib.axes._subplots.AxesSubplot at 0x7fea9067b160>"
      ]
     },
     "execution_count": 287,
     "metadata": {},
     "output_type": "execute_result"
    },
    {
     "data": {
      "image/png": "[encoded data removed]",
      "text/plain": [
       "<matplotlib.figure.Figure at 0x7fea906af828>"
      ]
     },
     "metadata": {},
     "output_type": "display_data"
    }
   ],
   "source": [
    "fig, axs = plt.subplots(nrows= 1, figsize=(13, 10))\n",
    "feat_imp = pd.Series(pipeline.steps[1][1]._Booster.get_fscore()).sort_values()\n",
    "X_train_dummy  =  pd.get_dummies(X_train_df)\n",
    "\n",
    "x=[]\n",
    "for i in range(0, X_train_dummy.shape[1]):\n",
    "    x.append( \"f\"+ str(i))\n",
    "\n",
    "X_train_dummy  = pd.get_dummies(X_train)    \n",
    "feat_imp_reindex = feat_imp.rename(lambda y: dict(zip(x, X_train_dummy.columns.tolist()))[y])\n",
    "\n",
    "\n",
    "feat_imp_reindex.plot(kind='barh', title='Feature Importances')"
   ]
  },
  {
   "cell_type": "markdown",
   "metadata": {
    "deletable": true,
    "editable": true
   },
   "source": [
    "### Model Evaluation"
   ]
  },
  {
   "cell_type": "code",
   "execution_count": 155,
   "metadata": {
    "collapsed": true,
    "deletable": true,
    "editable": true
   },
   "outputs": [],
   "source": [
    "pred_classifier = pipeline.predict(X_test)"
   ]
  },
  {
   "cell_type": "code",
   "execution_count": 156,
   "metadata": {
    "collapsed": false,
    "deletable": true,
    "editable": true
   },
   "outputs": [
    {
     "name": "stdout",
     "output_type": "stream",
     "text": [
      "*****Confusion Matrix *****\n",
      "[[6372 4036]\n",
      " [ 214  385]]\n",
      "*****Classification Report*****\n",
      "             precision    recall  f1-score   support\n",
      "\n",
      "          0       0.97      0.61      0.75     10408\n",
      "          1       0.09      0.64      0.15       599\n",
      "\n",
      "avg / total       0.92      0.61      0.72     11007\n",
      "\n",
      "ROC: 0.627479632336\n"
     ]
    }
   ],
   "source": [
    "roc = roc_auc_score(y_test, pred_classifier)\n",
    "print(\"*****Confusion Matrix *****\")\n",
    "print(confusion_matrix(y_test, pred_classifier))\n",
    "print(\"*****Classification Report*****\")\n",
    "print(classification_report(y_test, pred_classifier))\n",
    "print(\"ROC: \" +  str(roc))"
   ]
  },
  {
   "cell_type": "markdown",
   "metadata": {
    "deletable": true,
    "editable": true
   },
   "source": [
    "## Model Deployment using DSX Machine Learning"
   ]
  },
  {
   "cell_type": "code",
   "execution_count": 26,
   "metadata": {
    "collapsed": false,
    "deletable": true,
    "editable": true
   },
   "outputs": [
    {
     "name": "stderr",
     "output_type": "stream",
     "text": [
      "Using TensorFlow backend.\n"
     ]
    }
   ],
   "source": [
    "from dsx_ml.ml import save"
   ]
  },
  {
   "cell_type": "code",
   "execution_count": 154,
   "metadata": {
    "collapsed": false,
    "deletable": true,
    "editable": true
   },
   "outputs": [
    {
     "data": {
      "text/plain": [
       "{'path': '/user-home/1042/DSX_Projects/DTE FSS Fraud Detection/models/local_xgb/1',\n",
       " 'scoring_endpoint': 'https://dsxl-api.ibm-private-cloud.svc.cluster.local/v3/project/score/Python35/scikit-learn-0.19/DTE%20FSS%20Fraud%20Detection/local_xgb/1'}"
      ]
     },
     "execution_count": 154,
     "metadata": {},
     "output_type": "execute_result"
    }
   ],
   "source": [
    "model_name = \"local_xgb\"\n",
    "save(name = model_name,\n",
    "     model = pipeline,\n",
    "     algorithm_type = 'Classification',\n",
    "     x_test = X_test,\n",
    "     y_test = pd.DataFrame(y_test))"
   ]
  },
  {
   "cell_type": "markdown",
   "metadata": {
    "deletable": true,
    "editable": true
   },
   "source": [
    "### Online Scoring"
   ]
  },
  {
   "cell_type": "code",
   "execution_count": 158,
   "metadata": {
    "collapsed": true,
    "deletable": true,
    "editable": true
   },
   "outputs": [],
   "source": [
    "json_payload =[{\n",
    "    'Dollar_Amount': 1000,\n",
    "    'Transaction_Type':' keyed',\n",
    "    'Store_Type': 'Retail - Furniture',\n",
    "    'Cardholder_Region': 'SW',\n",
    "    'Country': 'Asia',\n",
    "    'Last3hourTransactions': 100,\n",
    "    'Hours_Since_Last_Transaction': 12}]"
   ]
  },
  {
   "cell_type": "code",
   "execution_count": 159,
   "metadata": {
    "collapsed": false,
    "deletable": true,
    "editable": true
   },
   "outputs": [
    {
     "name": "stdout",
     "output_type": "stream",
     "text": [
      "Prediction: [0]\n",
      "Probabilities: [[0.6900818347930908, 0.3099181652069092]]\n"
     ]
    }
   ],
   "source": [
    "import requests, json, os\n",
    "from pprint import pprint\n",
    "\n",
    "online_path='https://dsxl-api.ibm-private-cloud.svc.cluster.local/v3/project/score/Python35/scikit-learn-0.19/DTE%20FSS%20Fraud%20Detection/local_xgb/1'\n",
    "header_online = {'Content-Type': 'application/json', 'Authorization':os.environ['DSX_TOKEN']}\n",
    "\n",
    "response_scoring = requests.post(online_path, json=json_payload, headers=header_online)\n",
    "\n",
    "response_dict = json.loads(response_scoring.content.decode('utf-8'))\n",
    "\n",
    "pred=response_dict['object']['output']['predictions']\n",
    "prob=response_dict['object']['output']['probabilities']\n",
    "print(\"Prediction: %s\" % pred)\n",
    "print(\"Probabilities: %s\" % prob)"
   ]
  },
  {
   "cell_type": "markdown",
   "metadata": {
    "deletable": true,
    "editable": true
   },
   "source": [
    "### Batch Scoring"
   ]
  },
  {
   "cell_type": "markdown",
   "metadata": {
    "deletable": true,
    "editable": true
   },
   "source": [
    "** Preparing data for Batch Scoring **"
   ]
  },
  {
   "cell_type": "code",
   "execution_count": 161,
   "metadata": {
    "collapsed": false,
    "deletable": true,
    "editable": true
   },
   "outputs": [
    {
     "data": {
      "text/html": [
       "<div>\n",
       "<style scoped>\n",
       "    .dataframe tbody tr th:only-of-type {\n",
       "        vertical-align: middle;\n",
       "    }\n",
       "\n",
       "    .dataframe tbody tr th {\n",
       "        vertical-align: top;\n",
       "    }\n",
       "\n",
       "    .dataframe thead th {\n",
       "        text-align: right;\n",
       "    }\n",
       "</style>\n",
       "<table border=\"1\" class=\"dataframe\">\n",
       "  <thead>\n",
       "    <tr style=\"text-align: right;\">\n",
       "      <th></th>\n",
       "      <th>Dollar_Amount</th>\n",
       "      <th>Transaction_Type</th>\n",
       "      <th>Store_Type</th>\n",
       "      <th>Cardholder_Region</th>\n",
       "      <th>Country</th>\n",
       "      <th>Last3hourTransactions</th>\n",
       "      <th>Hours_Since_Last_Transaction</th>\n",
       "    </tr>\n",
       "  </thead>\n",
       "  <tbody>\n",
       "    <tr>\n",
       "      <th>0</th>\n",
       "      <td>171.72</td>\n",
       "      <td>keyed</td>\n",
       "      <td>Utilities</td>\n",
       "      <td>NW</td>\n",
       "      <td>USA</td>\n",
       "      <td>1</td>\n",
       "      <td>15</td>\n",
       "    </tr>\n",
       "    <tr>\n",
       "      <th>1</th>\n",
       "      <td>152.98</td>\n",
       "      <td>keyed</td>\n",
       "      <td>Retail - Books</td>\n",
       "      <td>NE</td>\n",
       "      <td>USA</td>\n",
       "      <td>2</td>\n",
       "      <td>21</td>\n",
       "    </tr>\n",
       "    <tr>\n",
       "      <th>2</th>\n",
       "      <td>126.30</td>\n",
       "      <td>swiped</td>\n",
       "      <td>Retail - Home Improvement</td>\n",
       "      <td>S</td>\n",
       "      <td>USA</td>\n",
       "      <td>1</td>\n",
       "      <td>18</td>\n",
       "    </tr>\n",
       "    <tr>\n",
       "      <th>3</th>\n",
       "      <td>126.30</td>\n",
       "      <td>swiped</td>\n",
       "      <td>Retail - Home Improvement</td>\n",
       "      <td>S</td>\n",
       "      <td>USA</td>\n",
       "      <td>2</td>\n",
       "      <td>14</td>\n",
       "    </tr>\n",
       "    <tr>\n",
       "      <th>4</th>\n",
       "      <td>181.16</td>\n",
       "      <td>keyed</td>\n",
       "      <td>Retail - Pharmacy</td>\n",
       "      <td>N</td>\n",
       "      <td>USA</td>\n",
       "      <td>2</td>\n",
       "      <td>23</td>\n",
       "    </tr>\n",
       "  </tbody>\n",
       "</table>\n",
       "</div>"
      ],
      "text/plain": [
       "   Dollar_Amount Transaction_Type                 Store_Type  \\\n",
       "0         171.72            keyed                  Utilities   \n",
       "1         152.98            keyed             Retail - Books   \n",
       "2         126.30           swiped  Retail - Home Improvement   \n",
       "3         126.30           swiped  Retail - Home Improvement   \n",
       "4         181.16            keyed          Retail - Pharmacy   \n",
       "\n",
       "  Cardholder_Region Country  Last3hourTransactions  \\\n",
       "0                NW     USA                      1   \n",
       "1                NE     USA                      2   \n",
       "2                 S     USA                      1   \n",
       "3                 S     USA                      2   \n",
       "4                 N     USA                      2   \n",
       "\n",
       "   Hours_Since_Last_Transaction  \n",
       "0                            15  \n",
       "1                            21  \n",
       "2                            18  \n",
       "3                            14  \n",
       "4                            23  "
      ]
     },
     "execution_count": 161,
     "metadata": {},
     "output_type": "execute_result"
    }
   ],
   "source": [
    "df_data_2 = pd.read_csv(os.environ['DSX_PROJECT_DIR']+'/datasets/Current_Transactions_v6.csv')\n",
    "df_data_2 = df_data_2[['Dollar_Amount', \n",
    "                       'Transaction_Type',\n",
    "                       'Store_Type', \n",
    "                       'Cardholder_Region', \n",
    "                       'Country',\n",
    "                       'Last3hourTransactions',\n",
    "                       'Hours_Since_Last_Transaction'\n",
    "                      ]]\n",
    "df_data_2.head()"
   ]
  },
  {
   "cell_type": "markdown",
   "metadata": {
    "deletable": true,
    "editable": true
   },
   "source": [
    "** Batch Scoring **\n",
    "\n",
    "Note: Modified the auto-generated script to make it work within notebook for batch scoring."
   ]
  },
  {
   "cell_type": "code",
   "execution_count": 163,
   "metadata": {
    "collapsed": false,
    "deletable": true,
    "editable": true
   },
   "outputs": [
    {
     "name": "stdout",
     "output_type": "stream",
     "text": [
      "Done! The results have been saved as yhat.csv\n"
     ]
    }
   ],
   "source": [
    "import pandas as pd\n",
    "from sklearn import model_selection\n",
    "from sklearn.externals import joblib\n",
    "import pickle\n",
    "import sys, os\n",
    "import json\n",
    "sys.path.insert(0, '/user-home/.scripts/common-helpers')\n",
    "import published_model_util\n",
    "\n",
    "# name your input and output data\n",
    "test_csv = \"Current_Transactions_v6_test2.csv\" # dont have to \n",
    "save_csv = \"yhat.csv\"\n",
    "args={'source': '/datasets/'+ test_csv, 'execution_type': 'DSX', 'target': '/datasets/'+ save_csv}\n",
    "#input_data = os.getenv(\"DSX_PROJECT_DIR\")+args.get(\"source\")\n",
    "output_data = os.getenv(\"DSX_PROJECT_DIR\")+\"/datasets/\"+save_csv\n",
    "model_name = 'local_xgb'\n",
    "model_path = os.getenv(\"DSX_PROJECT_DIR\")+\"/models/\"+model_name+\"/1/model\"\n",
    "project_name = 'DTE FSS Fraud Detection'\n",
    "is_published = 'false'\n",
    "\n",
    "def scoring(model_path, input_data, output_data):\n",
    "    published_path = ''\n",
    "    # load model\n",
    "    if is_published == 'true':\n",
    "        copy_result = json.loads(published_model_util.copy_model(project_name, model_name))\n",
    "        if(copy_result['code'] == 200):\n",
    "            model_path = copy_result['path'] + '/model'\n",
    "            published_path = copy_result['path']\n",
    "        else:\n",
    "            raise Exception('Unable to score published model: ' + copy_result['description'])\n",
    "\n",
    "   # load the input data\n",
    "    dataframe = input_data\n",
    "\n",
    "    # load the model from disk \n",
    "    loaded_model = joblib.load(open(model_path, 'rb'))\n",
    "    \n",
    "    #predictions\n",
    "    scoring_result = loaded_model.predict(dataframe)\n",
    "\n",
    "    # feel free to write any code\n",
    "    #print(scoring_result)\n",
    "    scoring_output = pd.concat([dataframe.reset_index(drop=True), pd.DataFrame({'prediction':scoring_result})], 1)\n",
    "    # save to csv\n",
    "    scoring_output.to_csv(output_data)\n",
    "\n",
    "    if (len(published_path) > 0):\n",
    "        published_model_util.delete_temp_model()\n",
    "    \n",
    "    print(\"Done! The results have been saved as \" + save_csv)\n",
    "    \n",
    "    return scoring_output\n",
    "\n",
    "# invoke scoring: pay attention to input_data\n",
    "batch_result = scoring(model_path,df_data_2, output_data)"
   ]
  },
  {
   "cell_type": "markdown",
   "metadata": {
    "deletable": true,
    "editable": true
   },
   "source": [
    "Here is the result returned by batch scoring."
   ]
  },
  {
   "cell_type": "code",
   "execution_count": 165,
   "metadata": {
    "collapsed": false,
    "deletable": true,
    "editable": true
   },
   "outputs": [
    {
     "data": {
      "text/html": [
       "<div>\n",
       "<style scoped>\n",
       "    .dataframe tbody tr th:only-of-type {\n",
       "        vertical-align: middle;\n",
       "    }\n",
       "\n",
       "    .dataframe tbody tr th {\n",
       "        vertical-align: top;\n",
       "    }\n",
       "\n",
       "    .dataframe thead th {\n",
       "        text-align: right;\n",
       "    }\n",
       "</style>\n",
       "<table border=\"1\" class=\"dataframe\">\n",
       "  <thead>\n",
       "    <tr style=\"text-align: right;\">\n",
       "      <th></th>\n",
       "      <th>Dollar_Amount</th>\n",
       "      <th>Transaction_Type</th>\n",
       "      <th>Store_Type</th>\n",
       "      <th>Cardholder_Region</th>\n",
       "      <th>Country</th>\n",
       "      <th>Last3hourTransactions</th>\n",
       "      <th>Hours_Since_Last_Transaction</th>\n",
       "      <th>prediction</th>\n",
       "    </tr>\n",
       "  </thead>\n",
       "  <tbody>\n",
       "    <tr>\n",
       "      <th>0</th>\n",
       "      <td>171.72</td>\n",
       "      <td>keyed</td>\n",
       "      <td>Utilities</td>\n",
       "      <td>NW</td>\n",
       "      <td>USA</td>\n",
       "      <td>1</td>\n",
       "      <td>15</td>\n",
       "      <td>0</td>\n",
       "    </tr>\n",
       "    <tr>\n",
       "      <th>1</th>\n",
       "      <td>152.98</td>\n",
       "      <td>keyed</td>\n",
       "      <td>Retail - Books</td>\n",
       "      <td>NE</td>\n",
       "      <td>USA</td>\n",
       "      <td>2</td>\n",
       "      <td>21</td>\n",
       "      <td>0</td>\n",
       "    </tr>\n",
       "    <tr>\n",
       "      <th>2</th>\n",
       "      <td>126.30</td>\n",
       "      <td>swiped</td>\n",
       "      <td>Retail - Home Improvement</td>\n",
       "      <td>S</td>\n",
       "      <td>USA</td>\n",
       "      <td>1</td>\n",
       "      <td>18</td>\n",
       "      <td>0</td>\n",
       "    </tr>\n",
       "    <tr>\n",
       "      <th>3</th>\n",
       "      <td>126.30</td>\n",
       "      <td>swiped</td>\n",
       "      <td>Retail - Home Improvement</td>\n",
       "      <td>S</td>\n",
       "      <td>USA</td>\n",
       "      <td>2</td>\n",
       "      <td>14</td>\n",
       "      <td>0</td>\n",
       "    </tr>\n",
       "    <tr>\n",
       "      <th>4</th>\n",
       "      <td>181.16</td>\n",
       "      <td>keyed</td>\n",
       "      <td>Retail - Pharmacy</td>\n",
       "      <td>N</td>\n",
       "      <td>USA</td>\n",
       "      <td>2</td>\n",
       "      <td>23</td>\n",
       "      <td>0</td>\n",
       "    </tr>\n",
       "  </tbody>\n",
       "</table>\n",
       "</div>"
      ],
      "text/plain": [
       "   Dollar_Amount Transaction_Type                 Store_Type  \\\n",
       "0         171.72            keyed                  Utilities   \n",
       "1         152.98            keyed             Retail - Books   \n",
       "2         126.30           swiped  Retail - Home Improvement   \n",
       "3         126.30           swiped  Retail - Home Improvement   \n",
       "4         181.16            keyed          Retail - Pharmacy   \n",
       "\n",
       "  Cardholder_Region Country  Last3hourTransactions  \\\n",
       "0                NW     USA                      1   \n",
       "1                NE     USA                      2   \n",
       "2                 S     USA                      1   \n",
       "3                 S     USA                      2   \n",
       "4                 N     USA                      2   \n",
       "\n",
       "   Hours_Since_Last_Transaction  prediction  \n",
       "0                            15           0  \n",
       "1                            21           0  \n",
       "2                            18           0  \n",
       "3                            14           0  \n",
       "4                            23           0  "
      ]
     },
     "execution_count": 165,
     "metadata": {},
     "output_type": "execute_result"
    }
   ],
   "source": [
    "batch_result.head()"
   ]
  },
  {
   "cell_type": "code",
   "execution_count": 175,
   "metadata": {
    "collapsed": false,
    "deletable": true,
    "editable": true
   },
   "outputs": [
    {
     "data": {
      "text/html": [
       "<!--\n",
       "  ~ Copyright (c) 2015 IBM Corporation and others.\n",
       "  ~\n",
       "  ~ Licensed under the Apache License, Version 2.0 (the \"License\");\n",
       "  ~ You may not use this file except in compliance with the License.\n",
       "  ~ You may obtain a copy of the License at\n",
       "  ~\n",
       "  ~     http://www.apache.org/licenses/LICENSE-2.0\n",
       "  ~\n",
       "  ~ Unless required by applicable law or agreed to in writing, software\n",
       "  ~ distributed under the License is distributed on an \"AS IS\" BASIS,\n",
       "  ~ WITHOUT WARRANTIES OR CONDITIONS OF ANY KIND, either express or implied.\n",
       "  ~ See the License for the specific language governing permissions and\n",
       "  ~ limitations under the License.\n",
       "  -->\n",
       "\n",
       "\n",
       "<link rel=\"stylesheet\" type=\"text/css\" href=\"/dsx-jupyter-py35/ibmdsxuser-1042/1519748209230/nbextensions/brunel_ext/brunel.2.3.css\">\n",
       "<link rel=\"stylesheet\" type=\"text/css\" href=\"/dsx-jupyter-py35/ibmdsxuser-1042/1519748209230/nbextensions/brunel_ext/sumoselect.css\">\n",
       "\n",
       "<style>\n",
       "    \n",
       "</style>\n",
       "\n",
       "<div id=\"controlsid7dd41988-20c0-11e8-8fba-3e8a7b75bb25\" class=\"brunel\"/>\n",
       "<svg id=\"visid7dd41636-20c0-11e8-8fba-3e8a7b75bb25\" width=\"500\" height=\"400\"></svg>"
      ],
      "text/plain": [
       "<IPython.core.display.HTML object>"
      ]
     },
     "metadata": {},
     "output_type": "display_data"
    },
    {
     "data": {
      "application/javascript": [
       "/*\n",
       " * Copyright (c) 2015 IBM Corporation and others.\n",
       " *\n",
       " * Licensed under the Apache License, Version 2.0 (the \"License\");\n",
       " * You may not use this file except in compliance with the License.\n",
       " * You may obtain a copy of the License at\n",
       " *\n",
       " *     http://www.apache.org/licenses/LICENSE-2.0\n",
       " *\n",
       " * Unless required by applicable law or agreed to in writing, software\n",
       " * distributed under the License is distributed on an \"AS IS\" BASIS,\n",
       " * WITHOUT WARRANTIES OR CONDITIONS OF ANY KIND, either express or implied.\n",
       " * See the License for the specific language governing permissions and\n",
       " * limitations under the License.\n",
       " */\n",
       "\n",
       "require.config({\n",
       "    waitSeconds: 60,\n",
       "    paths: {\n",
       "        'd3': '//cdnjs.cloudflare.com/ajax/libs/d3/4.2.1/d3.min',\n",
       "        'topojson': '//cdnjs.cloudflare.com/ajax/libs/topojson/1.6.20/topojson.min',\n",
       "        'brunel' : '/dsx-jupyter-py35/ibmdsxuser-1042/1519748209230/nbextensions/brunel_ext/brunel.2.3.min',\n",
       "        'brunelControls' : '/dsx-jupyter-py35/ibmdsxuser-1042/1519748209230/nbextensions/brunel_ext/brunel.controls.2.3.min'\n",
       "    },\n",
       "    shim: {\n",
       "       'brunel' : {\n",
       "            exports: 'BrunelD3',\n",
       "            deps: ['d3', 'topojson'],\n",
       "            init: function() {\n",
       "               return {\n",
       "                 BrunelD3 : BrunelD3,\n",
       "                 BrunelData : BrunelData\n",
       "              }\n",
       "            }\n",
       "        },\n",
       "       'brunelControls' : {\n",
       "            exports: 'BrunelEventHandlers',\n",
       "            init: function() {\n",
       "               return {\n",
       "                 BrunelEventHandlers: BrunelEventHandlers,\n",
       "                 BrunelJQueryControlFactory: BrunelJQueryControlFactory\n",
       "              }\n",
       "            }\n",
       "        }\n",
       "\n",
       "    }\n",
       "\n",
       "});\n",
       "\n",
       "require([\"d3\"], function(d3) {\n",
       "    require([\"brunel\", \"brunelControls\"], function(brunel, brunelControls) {\n",
       "        function  BrunelVis(visId) {\n",
       "  \"use strict\";                                                                       // strict mode\n",
       "  var datasets = [],                                      // array of datasets for the original data\n",
       "      pre = function(d, i) { return d },                         // default pre-process does nothing\n",
       "      post = function(d, i) { return d },                       // default post-process does nothing\n",
       "      transitionTime = 200,                                        // transition time for animations\n",
       "      charts = [],                                                       // the charts in the system\n",
       "      vis = d3.select('#' + visId).attr('class', 'brunel');                     // the SVG container\n",
       "\n",
       "  BrunelD3.addDefinitions(vis);                                   // ensure standard symbols present\n",
       "\n",
       "  // Define chart #1 in the visualization //////////////////////////////////////////////////////////\n",
       "\n",
       "  charts[0] = function(parentNode, filterRows) {\n",
       "    var geom = BrunelD3.geometry(parentNode || vis.node(), 0, 0, 1, 1, 5, 42, 37, 76),\n",
       "      elements = [];                                              // array of elements in this chart\n",
       "\n",
       "    // Define groups for the chart parts ///////////////////////////////////////////////////////////\n",
       "\n",
       "    var chart =  vis.append('g').attr('class', 'chart1')\n",
       "      .attr('transform','translate(' + geom.chart_left + ',' + geom.chart_top + ')');\n",
       "    var overlay = chart.append('g').attr('class', 'element').attr('class', 'overlay');\n",
       "    var zoom = d3.zoom().scaleExtent([1/3,3]);\n",
       "    var zoomNode = overlay.append('rect').attr('class', 'overlay')\n",
       "      .attr('x', geom.inner_left).attr('y', geom.inner_top)\n",
       "      .attr('width', geom.inner_rawWidth).attr('height', geom.inner_rawHeight)\n",
       "      .style('cursor', 'move').call(zoom)\n",
       "      .node();\n",
       "    zoomNode.__zoom = d3.zoomIdentity;\n",
       "    chart.append('rect').attr('class', 'background').attr('width', geom.chart_right-geom.chart_left).attr('height', geom.chart_bottom-geom.chart_top);\n",
       "    var interior = chart.append('g').attr('class', 'interior zoomNone')\n",
       "      .attr('transform','translate(' + geom.inner_left + ',' + geom.inner_top + ')')\n",
       "      .attr('clip-path', 'url(#clip_visid7dd41636-20c0-11e8-8fba-3e8a7b75bb25_chart1_inner)');\n",
       "    interior.append('rect').attr('class', 'inner').attr('width', geom.inner_width).attr('height', geom.inner_height);\n",
       "    var gridGroup = interior.append('g').attr('class', 'grid');\n",
       "    var axes = chart.append('g').attr('class', 'axis')\n",
       "      .attr('transform','translate(' + geom.inner_left + ',' + geom.inner_top + ')');\n",
       "    var legends = chart.append('g').attr('class', 'legend')\n",
       "      .attr('transform','translate(' + (geom.chart_right-geom.chart_left - 3) + ',' + 0 + ')');\n",
       "    vis.append('clipPath').attr('id', 'clip_visid7dd41636-20c0-11e8-8fba-3e8a7b75bb25_chart1_inner').append('rect')\n",
       "      .attr('x', 0).attr('y', 0)\n",
       "      .attr('width', geom.inner_rawWidth+1).attr('height', geom.inner_rawHeight+1);\n",
       "\n",
       "    // Scales //////////////////////////////////////////////////////////////////////////////////////\n",
       "\n",
       "    var scale_x = d3.scaleLinear().domain([-0.2, 1.2000001])\n",
       "      .range([0, geom.inner_width]);\n",
       "    var scale_inner = d3.scaleLinear().domain([0,1])\n",
       "      .range([-0.5, 0.5]);\n",
       "    var scale_y = d3.scaleLinear().domain([0, 35000.003])\n",
       "      .range([geom.inner_height, 0]);\n",
       "    var base_scales = [scale_x, scale_y];                           // untransformed original scales\n",
       "\n",
       "    // Axes ////////////////////////////////////////////////////////////////////////////////////////\n",
       "\n",
       "    axes.append('g').attr('class', 'x axis')\n",
       "      .attr('transform','translate(0,' + geom.inner_rawHeight + ')')\n",
       "      .attr('clip-path', 'url(#clip_visid7dd41636-20c0-11e8-8fba-3e8a7b75bb25_chart1_haxis)');\n",
       "    vis.append('clipPath').attr('id', 'clip_visid7dd41636-20c0-11e8-8fba-3e8a7b75bb25_chart1_haxis').append('polyline')\n",
       "      .attr('points', '-1,-1000, -1,-1 -5,5, -1000,5, -100,1000, 10000,1000 10000,-1000');\n",
       "    axes.select('g.axis.x').append('text').attr('class', 'title').text('Prediction').style('text-anchor', 'middle')\n",
       "      .attr('x',geom.inner_rawWidth/2)\n",
       "      .attr('y', geom.inner_bottom - 2.0).attr('dy','-0.27em');\n",
       "    axes.append('g').attr('class', 'y axis')\n",
       "      .attr('clip-path', 'url(#clip_visid7dd41636-20c0-11e8-8fba-3e8a7b75bb25_chart1_vaxis)');\n",
       "    vis.append('clipPath').attr('id', 'clip_visid7dd41636-20c0-11e8-8fba-3e8a7b75bb25_chart1_vaxis').append('polyline')\n",
       "      .attr('points', '-1000,-10000, 10000,-10000, 10000,' + (geom.inner_rawHeight+1) + ', -1,' + (geom.inner_rawHeight+1) + ', -1,' + (geom.inner_rawHeight+5) + ', -1000,' + (geom.inner_rawHeight+5) );\n",
       "\n",
       "    var axis_bottom = d3.axisBottom(scale_x).ticks(Math.min(10, Math.round(geom.inner_width / 33.0)));\n",
       "    var axis_left = d3.axisLeft(scale_y).ticks(Math.min(10, Math.round(geom.inner_width / 20)));\n",
       "\n",
       "    function buildAxes(time) {\n",
       "      var axis_x = axes.select('g.axis.x');\n",
       "      BrunelD3.transition(axis_x, time).call(axis_bottom.scale(scale_x));\n",
       "      var axis_y = axes.select('g.axis.y');\n",
       "      BrunelD3.transition(axis_y, time).call(axis_left.scale(scale_y));\n",
       "    }\n",
       "    zoom.on('zoom', function(t, time) {\n",
       "        t = t ||BrunelD3.restrictZoom(d3.event.transform, geom, this);\n",
       "        scale_x = t.rescaleX(base_scales[0]);\n",
       "        scale_y = t.rescaleY(base_scales[1]);\n",
       "        zoomNode.__zoom = t;\n",
       "        interior.attr('class', 'interior ' + BrunelD3.zoomLabel(t.k));;\n",
       "        build(time || -1);\n",
       "    });\n",
       "\n",
       "    // Define element #1 ///////////////////////////////////////////////////////////////////////////\n",
       "\n",
       "    elements[0] = function() {\n",
       "      var original, processed,                           // data sets passed in and then transformed\n",
       "        element, data,                                 // brunel element information and brunel data\n",
       "        selection, merged;                                      // d3 selection and merged selection\n",
       "      var elementGroup = interior.append('g').attr('class', 'element1'),\n",
       "        main = elementGroup.append('g').attr('class', 'main'),\n",
       "        labels = BrunelD3.undoTransform(elementGroup.append('g').attr('class', 'labels').attr('aria-hidden', 'true'), elementGroup);\n",
       "\n",
       "      function makeData() {\n",
       "        original = datasets[0];\n",
       "        if (filterRows) original = original.retainRows(filterRows);\n",
       "        processed = pre(original, 0)\n",
       "          .summarize('#count=#count:sum; prediction=prediction:base');\n",
       "        processed = post(processed, 0);\n",
       "        var f0 = processed.field('prediction'),\n",
       "          f1 = processed.field('#count'),\n",
       "          f2 = processed.field('#row'),\n",
       "          f3 = processed.field('#selection');\n",
       "        var keyFunc = function(d) { return f2.value(d) };\n",
       "        data = {\n",
       "          prediction:   function(d) { return f0.value(d.row) },\n",
       "          $count:       function(d) { return f1.value(d.row) },\n",
       "          $row:         function(d) { return f2.value(d.row) },\n",
       "          $selection:   function(d) { return f3.value(d.row) },\n",
       "          prediction_f: function(d) { return f0.valueFormatted(d.row) },\n",
       "          $count_f:     function(d) { return f1.valueFormatted(d.row) },\n",
       "          $row_f:       function(d) { return f2.valueFormatted(d.row) },\n",
       "          $selection_f: function(d) { return f3.valueFormatted(d.row) },\n",
       "          _split:       function(d) { return f0.value(d.row) },\n",
       "          _key:         keyFunc,\n",
       "          _rows:        BrunelD3.makeRowsWithKeys(keyFunc, processed.rowCount())\n",
       "        };\n",
       "      }\n",
       "      // Aesthetic Functions\n",
       "      var scale_color = d3.scaleLinear().domain([0, 0.0555556, 0.1111111, 0.1666667, 0.2222222, 0.2777778, 0.3333333, 0.3888889, 0.4444444, 0.5, 0.5555556, 0.6111111, 0.6666667, 0.7222222, 0.7777778, 0.8333333, 0.8888889, 0.9444444, 1])\n",
       "        .interpolate(d3.interpolateHcl)\n",
       "        .range([ '#008000', '#108E10', '#239C23', '#39AA39', '#52B852', '#6EC76E', \n",
       "          '#8ED58E', '#B0E3B0', '#D6F1D6', '#ffffff', '#FFFFFF', '#FFE3E3', '#FFC6C6', \n",
       "          '#FFAAAA', '#FF8E8E', '#FF7171', '#FF5555', '#FF3939', '#FF1C1C']);\n",
       "      var color = function(d) { return scale_color(data.prediction(d)) };\n",
       "      legends._legend = legends._legend || { title: ['Prediction'], \n",
       "        ticks: [1, 0.8, 0.6, 0.4, 0.2, 0]};\n",
       "      legends._legend.color = scale_color;\n",
       "\n",
       "      // Build element from data ///////////////////////////////////////////////////////////////////\n",
       "\n",
       "      function build(transitionMillis) {\n",
       "        element = elements[0];\n",
       "        var w = Math.abs( scale_x(scale_x.domain()[0] + 1.0) - scale_x.range()[0] );\n",
       "        var x = function(d) { return scale_x(data.prediction(d))};\n",
       "        var h = Math.abs( scale_y(scale_y.domain()[0] + 11128.0) - scale_y.range()[0] );\n",
       "        var y1 = scale_y.range()[0];\n",
       "        var y2 = function(d) { return scale_y(data.$count(d))};\n",
       "\n",
       "        // Define selection entry operations\n",
       "        function initialState(selection) {\n",
       "          selection\n",
       "            .attr('class', 'element bar filled')\n",
       "        }\n",
       "\n",
       "        // Define selection update operations on merged data\n",
       "        function updateState(selection) {\n",
       "          selection\n",
       "            .each(function(d) {\n",
       "              var width = w, left = x(d) - width/2, \n",
       "              c = y1, d = y2(d), top = Math.min(c,d), height = Math.max(1e-6, Math.abs(c-d));\n",
       "              this.r = {x:left, y:top, w:width, h:height};\n",
       "            })\n",
       "            .attr('x', function(d) { return this.r.x })\n",
       "            .attr('y', function(d) { return this.r.y })\n",
       "            .attr('width', function(d) { return this.r.w })\n",
       "            .attr('height', function(d) { return this.r.h })\n",
       "            .filter(BrunelD3.hasData)                     // following only performed for data items\n",
       "            .style('fill', color);\n",
       "        }\n",
       "\n",
       "        // Define labeling for the selection\n",
       "        function label(selection, transitionMillis) {\n",
       "\n",
       "          var tooltipLabeling  = {\n",
       "            index: -1, method: 'box', location: ['center', 'top'], inside: true, align: 'middle', pad: 0, dy: 0.7,\n",
       "            fit: true, granularity: 0,\n",
       "            content: function(d) {\n",
       "              return d.row == null ? null : '<span class=\"title\">Prediction: </span>'\n",
       "\t\t\t+ '<span class=\"field\">' + data.prediction_f(d) + '</span>'\n",
       "\t\t\t+ '<br/>'\n",
       "\t\t\t+ '<span class=\"title\">Count: </span>'\n",
       "\t\t\t+ '<span class=\"field\">' + data.$count_f(d) + '</span>'\n",
       "            }\n",
       "          };\n",
       "          BrunelD3.addTooltip(selection, tooltipLabeling, geom);\n",
       "        }\n",
       "        // Create selections, set the initial state and transition updates\n",
       "        selection = main.selectAll('.element').data(data._rows, function(d) { return d.key });\n",
       "        var added = selection.enter().append('rect');\n",
       "        merged = selection.merge(added);\n",
       "        initialState(added);\n",
       "        selection.filter(BrunelD3.hasData)\n",
       "          .classed('selected', BrunelD3.isSelected(data))\n",
       "          .filter(BrunelD3.isSelected(data)).raise();\n",
       "        updateState(BrunelD3.transition(merged, transitionMillis));\n",
       "        label(merged, transitionMillis);\n",
       "\n",
       "        BrunelD3.transition(selection.exit(), transitionMillis/3)\n",
       "          .style('opacity', 0.5).each( function() {\n",
       "            this.remove(); BrunelD3.removeLabels(this); \n",
       "        });\n",
       "      }\n",
       "\n",
       "      return {\n",
       "        data:           function() { return processed },\n",
       "        original:       function() { return original },\n",
       "        internal:       function() { return data },\n",
       "        selection:      function() { return merged },\n",
       "        makeData:       makeData,\n",
       "        build:          build,\n",
       "        chart:          function() { return charts[0] },\n",
       "        group:          function() { return elementGroup },\n",
       "        fields: {\n",
       "          x:            ['prediction'],\n",
       "          y:            ['#count'],\n",
       "          key:          ['#row'],\n",
       "          color:        ['prediction']\n",
       "        }\n",
       "      };\n",
       "    }();\n",
       "\n",
       "    function build(time, noData) {\n",
       "      var first = elements[0].data() == null;\n",
       "      if (first) time = 0;                                           // no transition for first call\n",
       "      buildAxes(time);\n",
       "      if ((first || time > -1) && !noData) {\n",
       "        elements[0].makeData();\n",
       "        BrunelD3.addLegend(legends, legends._legend);\n",
       "      }\n",
       "      elements[0].build(time);\n",
       "    }\n",
       "\n",
       "    // Expose the following components of the chart\n",
       "    return {\n",
       "      elements : elements,\n",
       "      interior : interior,\n",
       "      scales: {x:scale_x, y:scale_y},\n",
       "      zoom: function(params, time) {\n",
       "          if (params) zoom.on('zoom').call(zoomNode, params, time);\n",
       "          return d3.zoomTransform(zoomNode);\n",
       "      },\n",
       "      build : build\n",
       "    };\n",
       "    }();\n",
       "\n",
       "  function setData(rowData, i) { datasets[i||0] = BrunelD3.makeData(rowData) }\n",
       "  function updateAll(time) { charts.forEach(function(x) {x.build(time || 0)}) }\n",
       "  function buildAll() {\n",
       "    for (var i=0;i<arguments.length;i++) setData(arguments[i], i);\n",
       "    updateAll(transitionTime);\n",
       "  }\n",
       "\n",
       "  return {\n",
       "    dataPreProcess:     function(f) { if (f) pre = f; return pre },\n",
       "    dataPostProcess:    function(f) { if (f) post = f; return post },\n",
       "    data:               function(d,i) { if (d) setData(d,i); return datasets[i||0] },\n",
       "    visId:              visId,\n",
       "    build:              buildAll,\n",
       "    rebuild:            updateAll,\n",
       "    charts:             charts\n",
       "  }\n",
       "}\n",
       "\n",
       "// Data Tables /////////////////////////////////////////////////////////////////////////////////////\n",
       "\n",
       "var table1 = {\n",
       "   summarized: true,\n",
       "   names: ['prediction', '#count'], \n",
       "   options: ['numeric', 'numeric'], \n",
       "   rows: [[0, 33081], [1, 21953]]\n",
       "};\n",
       "\n",
       "// Call Code to Build the system ///////////////////////////////////////////////////////////////////\n",
       "\n",
       "var v  = new BrunelVis('visid7dd41636-20c0-11e8-8fba-3e8a7b75bb25');\n",
       "v.build(table1);\n",
       "\n",
       "    });\n",
       "});"
      ],
      "text/plain": [
       "<IPython.core.display.Javascript object>"
      ]
     },
     "execution_count": 175,
     "metadata": {},
     "output_type": "execute_result"
    }
   ],
   "source": [
    "%brunel data(\"batch_result\") bar x(prediction) y(#count) color(prediction: green-red) tooltip(#all)"
   ]
  }
 ],
 "metadata": {
  "anaconda-cloud": {},
  "kernelspec": {
   "display_name": "Python [default]",
   "language": "python",
   "name": "python3"
  },
  "language_info": {
   "codemirror_mode": {
    "name": "ipython",
    "version": 3
   },
   "file_extension": ".py",
   "mimetype": "text/x-python",
   "name": "python",
   "nbconvert_exporter": "python",
   "pygments_lexer": "ipython3",
   "version": "3.5.2"
  }
 },
 "nbformat": 4,
 "nbformat_minor": 2
}
