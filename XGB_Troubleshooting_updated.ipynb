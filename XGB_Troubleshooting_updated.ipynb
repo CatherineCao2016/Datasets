{
    "nbformat_minor": 1, 
    "cells": [
        {
            "source": "<h1 id=\"tocheading\">XGB Troubleshooting</h1>\n<div id=\"toc\"></div>", 
            "cell_type": "markdown", 
            "metadata": {}
        }, 
        {
            "source": "The purpose of this notebook is to show some comfusion we encoucotered when applying XGboost. We used same data for binary prediction and applied same technique(SMOTE) to handle imbalance. And tried to keep all the hyperparameters the same as well. But still the result is different.  \nAUC from SPSS output is .602 vs. .501 in the notebook. I have not checked xgb script in Modeler. Just wondering if  went wrong here.\n\nUnexpected inconsistency:\n1. AUC: SPSS(.602) vs. Notebook(.501 or .559)\n2. The built-in evaluation produced higher AUC values than roc_auc_score() on test set.\n\n** Any ideas?? **\n\nNote: \n1. Run the following cell to view the full Table of Contents:)\n2. I am experiencing trouble creating a new project in DSX right now. If you need to check the datasets(both original and processed data from Modeler), see [here](https://github.com/CatherineCao2016/Datasets). ", 
            "cell_type": "markdown", 
            "metadata": {}
        }, 
        {
            "execution_count": 1, 
            "cell_type": "code", 
            "metadata": {}, 
            "outputs": [
                {
                    "execution_count": 1, 
                    "metadata": {}, 
                    "data": {
                        "text/plain": "'0.7.post3'"
                    }, 
                    "output_type": "execute_result"
                }
            ], 
            "source": "import xgboost\nxgboost.__version__"
        }, 
        {
            "execution_count": 7, 
            "cell_type": "code", 
            "metadata": {}, 
            "outputs": [
                {
                    "output_type": "display_data", 
                    "data": {
                        "application/javascript": "$.getScript('https://kmahelona.github.io/ipython_notebook_goodies/ipython_notebook_toc.js')", 
                        "text/plain": "<IPython.core.display.Javascript object>"
                    }, 
                    "metadata": {}
                }
            ], 
            "source": "%%javascript\n$.getScript('https://kmahelona.github.io/ipython_notebook_goodies/ipython_notebook_toc.js')"
        }, 
        {
            "source": "## Imports", 
            "cell_type": "markdown", 
            "metadata": {}
        }, 
        {
            "execution_count": 2, 
            "cell_type": "code", 
            "metadata": {}, 
            "outputs": [], 
            "source": "import numpy as np\nimport pandas as pd\nfrom xgboost import XGBClassifier\nfrom sklearn.metrics import roc_auc_score, confusion_matrix, classification_report"
        }, 
        {
            "source": "## UDFs", 
            "cell_type": "markdown", 
            "metadata": {}
        }, 
        {
            "execution_count": 3, 
            "cell_type": "code", 
            "metadata": {}, 
            "outputs": [], 
            "source": "def put_file(credentials, local_file_name,outputfilename):  \n    f = open(local_file_name,'r')\n    my_data = f.read()\n    data_to_send = my_data\n    url1 = ''.join(['https://identity.open.softlayer.com', '/v3/auth/tokens'])\n    data = {'auth': {'identity': {'methods': ['password'],\n            'password': {'user': {'name': credentials['username'],'domain': {'id': credentials['domain_id']},\n            'password': credentials['password']}}}}}\n    headers1 = {'Content-Type': 'application/json'}\n    resp1 = requests.post(url=url1, data=json.dumps(data), headers=headers1)\n    resp1_body = resp1.json()\n    #print(resp1_body)\n    for e1 in resp1_body['token']['catalog']:\n        if(e1['type']=='object-store'):\n            for e2 in e1['endpoints']:\n                        if(e2['interface']=='public'and e2['region']=='dallas'):\n                            url2 = ''.join([e2['url'],'/', credentials['container'], '/',  outputfilename])\n                            print(url2)\n    s_subject_token = resp1.headers['x-subject-token']\n    #print(s_subject_token)\n    #print(credentials['container'])\n    headers2 = {'X-Auth-Token': s_subject_token, 'accept': 'application/json'}\n    resp2 = requests.put(url=url2, headers=headers2, data = data_to_send)\n    print(resp2)"
        }, 
        {
            "execution_count": 6, 
            "cell_type": "code", 
            "metadata": {}, 
            "outputs": [
                {
                    "execution_count": 6, 
                    "metadata": {}, 
                    "data": {
                        "text/html": "<div>\n<style scoped>\n    .dataframe tbody tr th:only-of-type {\n        vertical-align: middle;\n    }\n\n    .dataframe tbody tr th {\n        vertical-align: top;\n    }\n\n    .dataframe thead th {\n        text-align: right;\n    }\n</style>\n<table border=\"1\" class=\"dataframe\">\n  <thead>\n    <tr style=\"text-align: right;\">\n      <th></th>\n      <th>Dollar_Amount</th>\n      <th>Transaction_Type</th>\n      <th>Store_Type</th>\n      <th>Cardholder_Region</th>\n      <th>Country</th>\n      <th>Fraudulent</th>\n      <th>Last3hourTransactions</th>\n      <th>Hours_Since_Last_Transaction</th>\n    </tr>\n  </thead>\n  <tbody>\n    <tr>\n      <th>0</th>\n      <td>188.56</td>\n      <td>swiped</td>\n      <td>ATM Withdrawal</td>\n      <td>E</td>\n      <td>USA</td>\n      <td>F</td>\n      <td>4</td>\n      <td>21</td>\n    </tr>\n    <tr>\n      <th>1</th>\n      <td>160.54</td>\n      <td>keyed</td>\n      <td>Grocery</td>\n      <td>NE</td>\n      <td>Australia</td>\n      <td>F</td>\n      <td>3</td>\n      <td>21</td>\n    </tr>\n    <tr>\n      <th>2</th>\n      <td>153.24</td>\n      <td>swiped</td>\n      <td>Retail - Pharmacy</td>\n      <td>SW</td>\n      <td>European Union</td>\n      <td>T</td>\n      <td>2</td>\n      <td>21</td>\n    </tr>\n    <tr>\n      <th>3</th>\n      <td>148.66</td>\n      <td>keyed</td>\n      <td>Communications - telephone and wireless</td>\n      <td>NW</td>\n      <td>USA</td>\n      <td>F</td>\n      <td>1</td>\n      <td>35</td>\n    </tr>\n    <tr>\n      <th>4</th>\n      <td>174.03</td>\n      <td>keyed</td>\n      <td>Spa/Beauty</td>\n      <td>SW</td>\n      <td>Asia</td>\n      <td>F</td>\n      <td>1</td>\n      <td>25</td>\n    </tr>\n  </tbody>\n</table>\n</div>", 
                        "text/plain": "   Dollar_Amount Transaction_Type                               Store_Type  \\\n0         188.56           swiped                           ATM Withdrawal   \n1         160.54            keyed                                  Grocery   \n2         153.24           swiped                        Retail - Pharmacy   \n3         148.66            keyed  Communications - telephone and wireless   \n4         174.03            keyed                               Spa/Beauty   \n\n  Cardholder_Region         Country Fraudulent  Last3hourTransactions  \\\n0                 E             USA          F                      4   \n1                NE       Australia          F                      3   \n2                SW  European Union          T                      2   \n3                NW             USA          F                      1   \n4                SW            Asia          F                      1   \n\n   Hours_Since_Last_Transaction  \n0                            21  \n1                            21  \n2                            21  \n3                            35  \n4                            25  "
                    }, 
                    "output_type": "execute_result"
                }
            ], 
            "source": "# The code was removed by DSX for sharing."
        }, 
        {
            "source": "## Split into Training and Test", 
            "cell_type": "markdown", 
            "metadata": {}
        }, 
        {
            "execution_count": 7, 
            "cell_type": "code", 
            "metadata": {}, 
            "outputs": [
                {
                    "output_type": "stream", 
                    "name": "stdout", 
                    "text": "Number of training records: 44028\nNumber of testing records : 11007\n"
                }, 
                {
                    "output_type": "stream", 
                    "name": "stderr", 
                    "text": "/gpfs/fs01/user/s34f-24c5585e483e16-c0ce2641d0ef/.local/lib/python3.5/site-packages/sklearn/cross_validation.py:41: DeprecationWarning: This module was deprecated in version 0.18 in favor of the model_selection module into which all the refactored classes and functions are moved. Also note that the interface of the new CV iterators are different from that of this module. This module will be removed in 0.20.\n  \"This module will be removed in 0.20.\", DeprecationWarning)\n"
                }
            ], 
            "source": "y = df_data_1['Fraudulent'].map(lambda l: 1 if l == 'T' else 0)\nX = df_data_1.drop(['Fraudulent'], axis=1)\n\nfrom sklearn.cross_validation import train_test_split \n\nX_train, X_test, y_train, y_test = train_test_split(X, y, test_size=0.2, random_state=1234567)\n\nprint(\"Number of training records: \" + str(len(X_train)))\nprint(\"Number of testing records : \" + str(len(X_test)))"
        }, 
        {
            "source": "## Handle Imbalance using SMOTE(only on Training set)", 
            "cell_type": "markdown", 
            "metadata": {}
        }, 
        {
            "execution_count": null, 
            "cell_type": "code", 
            "metadata": {}, 
            "outputs": [], 
            "source": "# restart kernel if see error\nfrom imblearn.over_sampling import SMOTE"
        }, 
        {
            "execution_count": null, 
            "cell_type": "code", 
            "metadata": {
                "scrolled": true
            }, 
            "outputs": [], 
            "source": "X_train_dummy = pd.get_dummies(X_train)\nsm = SMOTE(random_state=2662761, ratio = 'auto', k_neighbors = 5)\nX_train_res, y_train_res = sm.fit_sample(X_train_dummy, y_train)\n#smote only deals with continuous variable\nX_train_res_rounded = X_train_res.round()\n\n\nprint('Fraud/Non-Fraud Ratio Before SMOTE: ' + str(y_train.sum()/len(y_train)))\nprint('Fraud/Non-Fraud Ratio After SMOTE: ' + str(y_train_res.sum()/len(y_train_res)))\n\nprint(\"Fraud in Training after SMOTE = T: \" + str(sum(y_train_res)))\nprint(\"Fraud in Training after SMOTE = F: \" + str(len(y_train_res) - sum(y_train_res)))\nprint(\"\\n************Test Set************\\n\")\nprint(\"Number of testing records : \" + str(len(X_test)))\nprint(\"Training: T = : \" + str(sum(y_test)))\nprint(\"Training: F = :\" + str(len(y_test) - sum(y_test)))"
        }, 
        {
            "execution_count": 129, 
            "cell_type": "code", 
            "metadata": {}, 
            "outputs": [], 
            "source": "# save out and retest in spss\npy_smoteoutput = pd.DataFrame(X_train_res, columns = pd.get_dummies(X_test).columns.values.tolist())\n"
        }, 
        {
            "execution_count": 131, 
            "cell_type": "code", 
            "metadata": {}, 
            "outputs": [], 
            "source": "# The code was removed by DSX for sharing."
        }, 
        {
            "execution_count": 136, 
            "cell_type": "code", 
            "metadata": {}, 
            "outputs": [], 
            "source": "py_smoteoutput['Fraud'] = y_train_res"
        }, 
        {
            "execution_count": 140, 
            "cell_type": "code", 
            "metadata": {}, 
            "outputs": [], 
            "source": "py_smoteoutput['Partition'] = \"1_Training\""
        }, 
        {
            "execution_count": 145, 
            "cell_type": "code", 
            "metadata": {}, 
            "outputs": [], 
            "source": "X_test_dummy = pd.get_dummies(X_test)"
        }, 
        {
            "execution_count": 146, 
            "cell_type": "code", 
            "metadata": {}, 
            "outputs": [], 
            "source": "X_test_dummy['Fraud'] = y_test"
        }, 
        {
            "execution_count": 147, 
            "cell_type": "code", 
            "metadata": {}, 
            "outputs": [], 
            "source": "X_test_dummy['Partition'] = \"2_Testing\""
        }, 
        {
            "execution_count": 148, 
            "cell_type": "code", 
            "metadata": {}, 
            "outputs": [
                {
                    "execution_count": 148, 
                    "metadata": {}, 
                    "data": {
                        "text/plain": "(83448, 46)"
                    }, 
                    "output_type": "execute_result"
                }
            ], 
            "source": "py_smoteoutput.shape"
        }, 
        {
            "execution_count": 149, 
            "cell_type": "code", 
            "metadata": {}, 
            "outputs": [
                {
                    "execution_count": 149, 
                    "metadata": {}, 
                    "data": {
                        "text/plain": "(11007, 46)"
                    }, 
                    "output_type": "execute_result"
                }
            ], 
            "source": "X_test_dummy.shape"
        }, 
        {
            "execution_count": 151, 
            "cell_type": "code", 
            "metadata": {}, 
            "outputs": [], 
            "source": "py_smoteoutput_combined = py_smoteoutput.append(X_test_dummy)"
        }, 
        {
            "execution_count": 152, 
            "cell_type": "code", 
            "metadata": {}, 
            "outputs": [
                {
                    "output_type": "stream", 
                    "name": "stdout", 
                    "text": "https://dal.objectstorage.open.softlayer.com/v1/AUTH_830bc8678c104292bb62a210d196fc7f/Defaultproject/py_smoteoutput_combined.csv\n<Response [201]>\n"
                }
            ], 
            "source": "py_smoteoutput_combined.to_csv(\"py_smoteoutput_combined.csv\", index = False)\nput_file(credentials_82, \"py_smoteoutput_combined.csv\", \"py_smoteoutput_combined.csv\")"
        }, 
        {
            "execution_count": 135, 
            "cell_type": "code", 
            "metadata": {}, 
            "outputs": [
                {
                    "output_type": "stream", 
                    "name": "stdout", 
                    "text": "https://dal.objectstorage.open.softlayer.com/v1/AUTH_830bc8678c104292bb62a210d196fc7f/Defaultproject/py_testset.csv\n<Response [201]>\n"
                }
            ], 
            "source": "X_test_dummy = pd.get_dummies(X_test)\nX_test_dummy.to_csv(\"py_testset.csv\", index = False)\nput_file(credentials_82, \"py_testset.csv\", \"py_testset.csv\")"
        }, 
        {
            "execution_count": 103, 
            "cell_type": "code", 
            "metadata": {}, 
            "outputs": [], 
            "source": "for i in range(len(X_train_res)):\n    X_train_res[i][1:] = X_train_res[i][1:].round()"
        }, 
        {
            "execution_count": 74, 
            "cell_type": "code", 
            "metadata": {}, 
            "outputs": [
                {
                    "execution_count": 74, 
                    "metadata": {}, 
                    "data": {
                        "text/plain": "array([1.33404136e+02, 4.93484248e+00, 1.41303150e+01, 0.00000000e+00,\n       1.00000000e+00, 0.00000000e+00, 0.00000000e+00, 0.00000000e+00,\n       0.00000000e+00, 0.00000000e+00, 0.00000000e+00, 0.00000000e+00,\n       0.00000000e+00, 0.00000000e+00, 0.00000000e+00, 0.00000000e+00,\n       0.00000000e+00, 0.00000000e+00, 0.00000000e+00, 0.00000000e+00,\n       0.00000000e+00, 0.00000000e+00, 9.34842484e-01, 0.00000000e+00,\n       0.00000000e+00, 0.00000000e+00, 0.00000000e+00, 0.00000000e+00,\n       0.00000000e+00, 0.00000000e+00, 0.00000000e+00, 6.51575156e-02,\n       0.00000000e+00, 0.00000000e+00, 0.00000000e+00, 0.00000000e+00,\n       6.51575156e-02, 9.34842484e-01, 0.00000000e+00, 0.00000000e+00,\n       0.00000000e+00, 0.00000000e+00, 9.34842484e-01, 6.51575156e-02])"
                    }, 
                    "output_type": "execute_result"
                }
            ], 
            "source": "X_train_res[44033]"
        }, 
        {
            "execution_count": 75, 
            "cell_type": "code", 
            "metadata": {}, 
            "outputs": [
                {
                    "execution_count": 75, 
                    "metadata": {}, 
                    "data": {
                        "text/plain": "array([133.,   5.,  14.,   0.,   1.,   0.,   0.,   0.,   0.,   0.,   0.,\n         0.,   0.,   0.,   0.,   0.,   0.,   0.,   0.,   0.,   0.,   0.,\n         1.,   0.,   0.,   0.,   0.,   0.,   0.,   0.,   0.,   0.,   0.,\n         0.,   0.,   0.,   0.,   1.,   0.,   0.,   0.,   0.,   1.,   0.])"
                    }, 
                    "output_type": "execute_result"
                }
            ], 
            "source": "X_train_res_rounded[44033]"
        }, 
        {
            "source": "## XGboost\n\nThe hyperparameters are set as following, the same as Modeler's setting.", 
            "cell_type": "markdown", 
            "metadata": {}
        }, 
        {
            "execution_count": 114, 
            "cell_type": "code", 
            "metadata": {}, 
            "outputs": [], 
            "source": "xgb_model = XGBClassifier(\n    tree_method= \"auto\",\n    n_estimators = 10,\n    max_depth = 6,\n    min_child_weight = 1.0,\n    max_delta_step = 0.0,\n    objective = \"binary:logistic\",\n    seed = 6924827,\n    subsample = 1.0,\n    learning_rate = .3,\n    gamma = 0.0,\n    colsample_bytree = 1.0,\n    colsample_bylevel = 1.0,\n    reg_lambda = 1.0,\n    reg_alpha = 0.0,\n    scale_pos_weight = 1.0)"
        }, 
        {
            "execution_count": 115, 
            "cell_type": "code", 
            "metadata": {}, 
            "outputs": [
                {
                    "output_type": "stream", 
                    "name": "stdout", 
                    "text": "[0]\tvalidation_0-auc:0.699632\tvalidation_1-auc:0.65423\n[1]\tvalidation_0-auc:0.71747\tvalidation_1-auc:0.652587\n[2]\tvalidation_0-auc:0.723259\tvalidation_1-auc:0.649979\n[3]\tvalidation_0-auc:0.729915\tvalidation_1-auc:0.655069\n[4]\tvalidation_0-auc:0.737506\tvalidation_1-auc:0.657501\n[5]\tvalidation_0-auc:0.741308\tvalidation_1-auc:0.655968\n[6]\tvalidation_0-auc:0.747141\tvalidation_1-auc:0.655206\n[7]\tvalidation_0-auc:0.751209\tvalidation_1-auc:0.656513\n[8]\tvalidation_0-auc:0.755906\tvalidation_1-auc:0.655498\n[9]\tvalidation_0-auc:0.760441\tvalidation_1-auc:0.657324\n"
                }, 
                {
                    "execution_count": 115, 
                    "metadata": {}, 
                    "data": {
                        "text/plain": "XGBClassifier(base_score=0.5, booster='gbtree', colsample_bylevel=1.0,\n       colsample_bytree=1.0, gamma=0.0, learning_rate=0.3,\n       max_delta_step=0.0, max_depth=6, min_child_weight=1.0, missing=None,\n       n_estimators=10, n_jobs=1, nthread=None,\n       objective='binary:logistic', random_state=0, reg_alpha=0.0,\n       reg_lambda=1.0, scale_pos_weight=1.0, seed=6924827, silent=True,\n       subsample=1.0, tree_method='auto')"
                    }, 
                    "output_type": "execute_result"
                }
            ], 
            "source": "xgb_model.fit(X_train_res, y_train_res, eval_set = [(X_train_res, y_train_res), (pd.get_dummies(X_test).as_matrix(), y_test)], eval_metric = \"auc\", verbose = True)"
        }, 
        {
            "execution_count": 116, 
            "cell_type": "code", 
            "metadata": {}, 
            "outputs": [
                {
                    "output_type": "stream", 
                    "name": "stderr", 
                    "text": "/gpfs/fs01/user/s34f-24c5585e483e16-c0ce2641d0ef/.local/lib/python3.5/site-packages/sklearn/preprocessing/label.py:151: DeprecationWarning: The truth value of an empty array is ambiguous. Returning False, but in future this will result in an error. Use `array.size > 0` to check that an array is not empty.\n  if diff:\n"
                }
            ], 
            "source": "pred_classifier = xgb_model.predict(pd.get_dummies(X_test).as_matrix())"
        }, 
        {
            "execution_count": 118, 
            "cell_type": "code", 
            "metadata": {}, 
            "outputs": [
                {
                    "output_type": "stream", 
                    "name": "stdout", 
                    "text": "*****Confusion Matrix *****\n[[6726 3682]\n [ 244  355]]\n*****Classification Report*****\n             precision    recall  f1-score   support\n\n          0       0.96      0.65      0.77     10408\n          1       0.09      0.59      0.15       599\n\navg / total       0.92      0.64      0.74     11007\n\nROC: 0.6194440452252601\n"
                }
            ], 
            "source": "roc = roc_auc_score(y_test, pred_classifier)\nprint(\"*****Confusion Matrix *****\")\nprint(confusion_matrix(y_test, pred_classifier))\nprint(\"*****Classification Report*****\")\nprint(classification_report(y_test, pred_classifier))\nprint(\"ROC: \" +  str(roc))"
        }, 
        {
            "execution_count": 109, 
            "cell_type": "code", 
            "metadata": {}, 
            "outputs": [
                {
                    "ename": "IndentationError", 
                    "evalue": "unindent does not match any outer indentation level (<tokenize>, line 8)", 
                    "traceback": [
                        "\u001b[0;36m  File \u001b[0;32m\"<tokenize>\"\u001b[0;36m, line \u001b[0;32m8\u001b[0m\n\u001b[0;31m    0       0.96      0.78      0.86     10408\u001b[0m\n\u001b[0m    ^\u001b[0m\n\u001b[0;31mIndentationError\u001b[0m\u001b[0;31m:\u001b[0m unindent does not match any outer indentation level\n"
                    ], 
                    "output_type": "error"
                }
            ], 
            "source": "if not rounded, roc = .61, if round everything  = .54\n*****Confusion Matrix *****\n[[8124 2284]\n [ 334  265]]\n*****Classification Report*****\n             precision    recall  f1-score   support\n\n          0       0.96      0.78      0.86     10408\n          1       0.10      0.44      0.17       599\n\navg / total       0.91      0.76      0.82     11007\n\nROC: 0.6114787135618036"
        }, 
        {
            "execution_count": 139, 
            "cell_type": "code", 
            "metadata": {}, 
            "outputs": [
                {
                    "execution_count": 139, 
                    "metadata": {}, 
                    "data": {
                        "text/html": "<div>\n<style scoped>\n    .dataframe tbody tr th:only-of-type {\n        vertical-align: middle;\n    }\n\n    .dataframe tbody tr th {\n        vertical-align: top;\n    }\n\n    .dataframe thead th {\n        text-align: right;\n    }\n</style>\n<table border=\"1\" class=\"dataframe\">\n  <thead>\n    <tr style=\"text-align: right;\">\n      <th></th>\n      <th>Dollar_Amount</th>\n      <th>Transaction_Type</th>\n      <th>Store_Type</th>\n      <th>Cardholder_Region</th>\n      <th>Country</th>\n      <th>Fraudulent</th>\n      <th>Last3hourTransactions</th>\n      <th>Hours_Since_Last_Transaction</th>\n      <th>Partition</th>\n    </tr>\n  </thead>\n  <tbody>\n    <tr>\n      <th>0</th>\n      <td>188.560000</td>\n      <td>swiped</td>\n      <td>ATM Withdrawal</td>\n      <td>E</td>\n      <td>USA</td>\n      <td>F</td>\n      <td>4</td>\n      <td>21</td>\n      <td>1_Training</td>\n    </tr>\n    <tr>\n      <th>1</th>\n      <td>160.540000</td>\n      <td>keyed</td>\n      <td>Grocery</td>\n      <td>NE</td>\n      <td>Australia</td>\n      <td>F</td>\n      <td>3</td>\n      <td>21</td>\n      <td>1_Training</td>\n    </tr>\n    <tr>\n      <th>2</th>\n      <td>153.240000</td>\n      <td>swiped</td>\n      <td>Retail - Pharmacy</td>\n      <td>SW</td>\n      <td>European Union</td>\n      <td>T</td>\n      <td>2</td>\n      <td>21</td>\n      <td>1_Training</td>\n    </tr>\n    <tr>\n      <th>3</th>\n      <td>148.660000</td>\n      <td>keyed</td>\n      <td>Communications - telephone and wireless</td>\n      <td>NW</td>\n      <td>USA</td>\n      <td>F</td>\n      <td>1</td>\n      <td>35</td>\n      <td>2_Testing</td>\n    </tr>\n    <tr>\n      <th>4</th>\n      <td>174.030000</td>\n      <td>keyed</td>\n      <td>Spa/Beauty</td>\n      <td>SW</td>\n      <td>Asia</td>\n      <td>F</td>\n      <td>1</td>\n      <td>25</td>\n      <td>1_Training</td>\n    </tr>\n    <tr>\n      <th>5</th>\n      <td>171.950000</td>\n      <td>swiped</td>\n      <td>Retail - Home Improvement</td>\n      <td>SE</td>\n      <td>USA</td>\n      <td>F</td>\n      <td>1</td>\n      <td>15</td>\n      <td>1_Training</td>\n    </tr>\n    <tr>\n      <th>6</th>\n      <td>171.720000</td>\n      <td>keyed</td>\n      <td>Utilities</td>\n      <td>NW</td>\n      <td>USA</td>\n      <td>F</td>\n      <td>1</td>\n      <td>15</td>\n      <td>1_Training</td>\n    </tr>\n    <tr>\n      <th>7</th>\n      <td>147.310000</td>\n      <td>swiped</td>\n      <td>Communications - telephone and wireless</td>\n      <td>N</td>\n      <td>Australia</td>\n      <td>T</td>\n      <td>1</td>\n      <td>13</td>\n      <td>1_Training</td>\n    </tr>\n    <tr>\n      <th>8</th>\n      <td>164.390000</td>\n      <td>swiped</td>\n      <td>Grocery</td>\n      <td>N</td>\n      <td>USA</td>\n      <td>F</td>\n      <td>3</td>\n      <td>30</td>\n      <td>1_Training</td>\n    </tr>\n    <tr>\n      <th>9</th>\n      <td>143.110000</td>\n      <td>keyed</td>\n      <td>Retail - Apparel</td>\n      <td>E</td>\n      <td>USA</td>\n      <td>F</td>\n      <td>1</td>\n      <td>23</td>\n      <td>1_Training</td>\n    </tr>\n    <tr>\n      <th>10</th>\n      <td>171.160000</td>\n      <td>keyed</td>\n      <td>Restaurant</td>\n      <td>NE</td>\n      <td>USA</td>\n      <td>F</td>\n      <td>3</td>\n      <td>18</td>\n      <td>1_Training</td>\n    </tr>\n    <tr>\n      <th>11</th>\n      <td>152.980000</td>\n      <td>keyed</td>\n      <td>Retail - Books</td>\n      <td>NE</td>\n      <td>USA</td>\n      <td>F</td>\n      <td>2</td>\n      <td>21</td>\n      <td>1_Training</td>\n    </tr>\n    <tr>\n      <th>12</th>\n      <td>126.300000</td>\n      <td>swiped</td>\n      <td>Retail - Home Improvement</td>\n      <td>S</td>\n      <td>USA</td>\n      <td>F</td>\n      <td>1</td>\n      <td>18</td>\n      <td>2_Testing</td>\n    </tr>\n    <tr>\n      <th>13</th>\n      <td>126.300000</td>\n      <td>swiped</td>\n      <td>Retail - Home Improvement</td>\n      <td>S</td>\n      <td>USA</td>\n      <td>F</td>\n      <td>2</td>\n      <td>14</td>\n      <td>1_Training</td>\n    </tr>\n    <tr>\n      <th>14</th>\n      <td>159.340000</td>\n      <td>swiped</td>\n      <td>Retail - Jewelry and Watches</td>\n      <td>E</td>\n      <td>European Union</td>\n      <td>F</td>\n      <td>1</td>\n      <td>23</td>\n      <td>2_Testing</td>\n    </tr>\n    <tr>\n      <th>15</th>\n      <td>145.600000</td>\n      <td>keyed</td>\n      <td>ATM Withdrawal</td>\n      <td>S</td>\n      <td>Australia</td>\n      <td>T</td>\n      <td>2</td>\n      <td>22</td>\n      <td>2_Testing</td>\n    </tr>\n    <tr>\n      <th>16</th>\n      <td>153.740000</td>\n      <td>swiped</td>\n      <td>e-Retail</td>\n      <td>E</td>\n      <td>USA</td>\n      <td>F</td>\n      <td>3</td>\n      <td>27</td>\n      <td>1_Training</td>\n    </tr>\n    <tr>\n      <th>17</th>\n      <td>187.410000</td>\n      <td>swiped</td>\n      <td>Grocery</td>\n      <td>S</td>\n      <td>USA</td>\n      <td>F</td>\n      <td>1</td>\n      <td>35</td>\n      <td>1_Training</td>\n    </tr>\n    <tr>\n      <th>18</th>\n      <td>152.980000</td>\n      <td>keyed</td>\n      <td>Retail - Books</td>\n      <td>NE</td>\n      <td>USA</td>\n      <td>F</td>\n      <td>1</td>\n      <td>21</td>\n      <td>1_Training</td>\n    </tr>\n    <tr>\n      <th>19</th>\n      <td>173.000000</td>\n      <td>swiped</td>\n      <td>e-Retail</td>\n      <td>NE</td>\n      <td>European Union</td>\n      <td>T</td>\n      <td>2</td>\n      <td>22</td>\n      <td>1_Training</td>\n    </tr>\n    <tr>\n      <th>20</th>\n      <td>198.040000</td>\n      <td>keyed</td>\n      <td>Other</td>\n      <td>W</td>\n      <td>USA</td>\n      <td>F</td>\n      <td>2</td>\n      <td>20</td>\n      <td>1_Training</td>\n    </tr>\n    <tr>\n      <th>21</th>\n      <td>159.340000</td>\n      <td>swiped</td>\n      <td>Retail - Jewelry and Watches</td>\n      <td>E</td>\n      <td>European Union</td>\n      <td>F</td>\n      <td>1</td>\n      <td>24</td>\n      <td>2_Testing</td>\n    </tr>\n    <tr>\n      <th>22</th>\n      <td>168.040000</td>\n      <td>swiped</td>\n      <td>ATM Withdrawal</td>\n      <td>W</td>\n      <td>USA</td>\n      <td>T</td>\n      <td>2</td>\n      <td>21</td>\n      <td>1_Training</td>\n    </tr>\n    <tr>\n      <th>23</th>\n      <td>168.040000</td>\n      <td>swiped</td>\n      <td>ATM Withdrawal</td>\n      <td>W</td>\n      <td>USA</td>\n      <td>F</td>\n      <td>1</td>\n      <td>15</td>\n      <td>1_Training</td>\n    </tr>\n    <tr>\n      <th>24</th>\n      <td>173.000000</td>\n      <td>swiped</td>\n      <td>e-Retail</td>\n      <td>NE</td>\n      <td>European Union</td>\n      <td>F</td>\n      <td>1</td>\n      <td>13</td>\n      <td>1_Training</td>\n    </tr>\n    <tr>\n      <th>25</th>\n      <td>187.410000</td>\n      <td>swiped</td>\n      <td>Grocery</td>\n      <td>S</td>\n      <td>USA</td>\n      <td>F</td>\n      <td>2</td>\n      <td>22</td>\n      <td>1_Training</td>\n    </tr>\n    <tr>\n      <th>26</th>\n      <td>145.600000</td>\n      <td>keyed</td>\n      <td>ATM Withdrawal</td>\n      <td>S</td>\n      <td>Australia</td>\n      <td>T</td>\n      <td>2</td>\n      <td>24</td>\n      <td>2_Testing</td>\n    </tr>\n    <tr>\n      <th>27</th>\n      <td>198.040000</td>\n      <td>keyed</td>\n      <td>Other</td>\n      <td>W</td>\n      <td>USA</td>\n      <td>F</td>\n      <td>1</td>\n      <td>23</td>\n      <td>2_Testing</td>\n    </tr>\n    <tr>\n      <th>28</th>\n      <td>153.740000</td>\n      <td>swiped</td>\n      <td>e-Retail</td>\n      <td>E</td>\n      <td>USA</td>\n      <td>F</td>\n      <td>2</td>\n      <td>24</td>\n      <td>1_Training</td>\n    </tr>\n    <tr>\n      <th>29</th>\n      <td>181.160000</td>\n      <td>keyed</td>\n      <td>Retail - Pharmacy</td>\n      <td>N</td>\n      <td>USA</td>\n      <td>F</td>\n      <td>2</td>\n      <td>23</td>\n      <td>1_Training</td>\n    </tr>\n    <tr>\n      <th>...</th>\n      <td>...</td>\n      <td>...</td>\n      <td>...</td>\n      <td>...</td>\n      <td>...</td>\n      <td>...</td>\n      <td>...</td>\n      <td>...</td>\n      <td>...</td>\n    </tr>\n    <tr>\n      <th>85363</th>\n      <td>119.984660</td>\n      <td>swiped</td>\n      <td>Entertainment and Arts</td>\n      <td>S</td>\n      <td>Australia</td>\n      <td>T</td>\n      <td>4</td>\n      <td>24</td>\n      <td>1_Training</td>\n    </tr>\n    <tr>\n      <th>85364</th>\n      <td>206.342404</td>\n      <td>keyed</td>\n      <td>Retail - Home Electronics</td>\n      <td>SW</td>\n      <td>USA</td>\n      <td>T</td>\n      <td>3</td>\n      <td>24</td>\n      <td>1_Training</td>\n    </tr>\n    <tr>\n      <th>85365</th>\n      <td>155.827493</td>\n      <td>swiped</td>\n      <td>Other</td>\n      <td>NW</td>\n      <td>European Union</td>\n      <td>T</td>\n      <td>2</td>\n      <td>20</td>\n      <td>1_Training</td>\n    </tr>\n    <tr>\n      <th>85366</th>\n      <td>163.083534</td>\n      <td>swiped</td>\n      <td>Retail - Toys</td>\n      <td>W</td>\n      <td>Asia</td>\n      <td>T</td>\n      <td>3</td>\n      <td>25</td>\n      <td>1_Training</td>\n    </tr>\n    <tr>\n      <th>85367</th>\n      <td>212.522201</td>\n      <td>swiped</td>\n      <td>Retail - Drug Store</td>\n      <td>NW</td>\n      <td>European Union</td>\n      <td>T</td>\n      <td>3</td>\n      <td>20</td>\n      <td>1_Training</td>\n    </tr>\n    <tr>\n      <th>85368</th>\n      <td>185.839844</td>\n      <td>swiped</td>\n      <td>Retail - Books</td>\n      <td>N</td>\n      <td>Australia</td>\n      <td>T</td>\n      <td>3</td>\n      <td>26</td>\n      <td>1_Training</td>\n    </tr>\n    <tr>\n      <th>85369</th>\n      <td>152.491191</td>\n      <td>swiped</td>\n      <td>Grocery</td>\n      <td>NW</td>\n      <td>Australia</td>\n      <td>T</td>\n      <td>3</td>\n      <td>23</td>\n      <td>1_Training</td>\n    </tr>\n    <tr>\n      <th>85370</th>\n      <td>155.762020</td>\n      <td>keyed</td>\n      <td>Retail - Books</td>\n      <td>S</td>\n      <td>Australia</td>\n      <td>T</td>\n      <td>3</td>\n      <td>25</td>\n      <td>1_Training</td>\n    </tr>\n    <tr>\n      <th>85371</th>\n      <td>135.553549</td>\n      <td>swiped</td>\n      <td>Retail - Furniture</td>\n      <td>NE</td>\n      <td>Asia</td>\n      <td>T</td>\n      <td>2</td>\n      <td>26</td>\n      <td>1_Training</td>\n    </tr>\n    <tr>\n      <th>85372</th>\n      <td>131.333544</td>\n      <td>swiped</td>\n      <td>Retail - Drug Store</td>\n      <td>N</td>\n      <td>Asia</td>\n      <td>T</td>\n      <td>2</td>\n      <td>20</td>\n      <td>1_Training</td>\n    </tr>\n    <tr>\n      <th>85373</th>\n      <td>163.576593</td>\n      <td>keyed</td>\n      <td>Education and Instruction</td>\n      <td>NE</td>\n      <td>European Union</td>\n      <td>T</td>\n      <td>2</td>\n      <td>26</td>\n      <td>1_Training</td>\n    </tr>\n    <tr>\n      <th>85374</th>\n      <td>191.169128</td>\n      <td>swiped</td>\n      <td>Entertainment and Arts</td>\n      <td>NW</td>\n      <td>USA</td>\n      <td>T</td>\n      <td>1</td>\n      <td>16</td>\n      <td>1_Training</td>\n    </tr>\n    <tr>\n      <th>85375</th>\n      <td>194.896730</td>\n      <td>swiped</td>\n      <td>Gas</td>\n      <td>NW</td>\n      <td>USA</td>\n      <td>T</td>\n      <td>5</td>\n      <td>22</td>\n      <td>1_Training</td>\n    </tr>\n    <tr>\n      <th>85376</th>\n      <td>148.527932</td>\n      <td>swiped</td>\n      <td>Retail - Pharmacy</td>\n      <td>N</td>\n      <td>Asia</td>\n      <td>T</td>\n      <td>2</td>\n      <td>26</td>\n      <td>1_Training</td>\n    </tr>\n    <tr>\n      <th>85377</th>\n      <td>169.680357</td>\n      <td>swiped</td>\n      <td>ATM Withdrawal</td>\n      <td>NE</td>\n      <td>Australia</td>\n      <td>T</td>\n      <td>4</td>\n      <td>19</td>\n      <td>1_Training</td>\n    </tr>\n    <tr>\n      <th>85378</th>\n      <td>157.841236</td>\n      <td>swiped</td>\n      <td>Retail - Convenience Store</td>\n      <td>SW</td>\n      <td>European Union</td>\n      <td>T</td>\n      <td>3</td>\n      <td>25</td>\n      <td>1_Training</td>\n    </tr>\n    <tr>\n      <th>85379</th>\n      <td>178.272000</td>\n      <td>swiped</td>\n      <td>Retail - Toys</td>\n      <td>NE</td>\n      <td>Australia</td>\n      <td>T</td>\n      <td>2</td>\n      <td>26</td>\n      <td>1_Training</td>\n    </tr>\n    <tr>\n      <th>85380</th>\n      <td>162.890703</td>\n      <td>swiped</td>\n      <td>Restaurant</td>\n      <td>S</td>\n      <td>European Union</td>\n      <td>T</td>\n      <td>2</td>\n      <td>30</td>\n      <td>1_Training</td>\n    </tr>\n    <tr>\n      <th>85381</th>\n      <td>164.810140</td>\n      <td>swiped</td>\n      <td>Hotel</td>\n      <td>NW</td>\n      <td>USA</td>\n      <td>T</td>\n      <td>1</td>\n      <td>23</td>\n      <td>1_Training</td>\n    </tr>\n    <tr>\n      <th>85382</th>\n      <td>179.425730</td>\n      <td>swiped</td>\n      <td>Grocery</td>\n      <td>N</td>\n      <td>Asia</td>\n      <td>T</td>\n      <td>3</td>\n      <td>21</td>\n      <td>1_Training</td>\n    </tr>\n    <tr>\n      <th>85383</th>\n      <td>183.292593</td>\n      <td>swiped</td>\n      <td>Spa/Beauty</td>\n      <td>SW</td>\n      <td>USA</td>\n      <td>T</td>\n      <td>4</td>\n      <td>27</td>\n      <td>1_Training</td>\n    </tr>\n    <tr>\n      <th>85384</th>\n      <td>148.089690</td>\n      <td>swiped</td>\n      <td>Retail - Furniture</td>\n      <td>N</td>\n      <td>USA</td>\n      <td>T</td>\n      <td>2</td>\n      <td>26</td>\n      <td>1_Training</td>\n    </tr>\n    <tr>\n      <th>85385</th>\n      <td>157.676325</td>\n      <td>swiped</td>\n      <td>Retail - Floral</td>\n      <td>SE</td>\n      <td>Australia</td>\n      <td>T</td>\n      <td>2</td>\n      <td>23</td>\n      <td>1_Training</td>\n    </tr>\n    <tr>\n      <th>85386</th>\n      <td>171.128881</td>\n      <td>swiped</td>\n      <td>Other</td>\n      <td>W</td>\n      <td>European Union</td>\n      <td>T</td>\n      <td>2</td>\n      <td>32</td>\n      <td>1_Training</td>\n    </tr>\n    <tr>\n      <th>85387</th>\n      <td>190.234787</td>\n      <td>keyed</td>\n      <td>Hotel</td>\n      <td>S</td>\n      <td>USA</td>\n      <td>T</td>\n      <td>2</td>\n      <td>23</td>\n      <td>1_Training</td>\n    </tr>\n    <tr>\n      <th>85388</th>\n      <td>161.029570</td>\n      <td>keyed</td>\n      <td>Grocery</td>\n      <td>NE</td>\n      <td>European Union</td>\n      <td>T</td>\n      <td>2</td>\n      <td>24</td>\n      <td>1_Training</td>\n    </tr>\n    <tr>\n      <th>85389</th>\n      <td>150.965645</td>\n      <td>swiped</td>\n      <td>Retail - Home Improvement</td>\n      <td>NE</td>\n      <td>Australia</td>\n      <td>T</td>\n      <td>2</td>\n      <td>18</td>\n      <td>1_Training</td>\n    </tr>\n    <tr>\n      <th>85390</th>\n      <td>140.284867</td>\n      <td>swiped</td>\n      <td>Retail - Home Improvement</td>\n      <td>SW</td>\n      <td>USA</td>\n      <td>T</td>\n      <td>1</td>\n      <td>23</td>\n      <td>1_Training</td>\n    </tr>\n    <tr>\n      <th>85391</th>\n      <td>155.104994</td>\n      <td>swiped</td>\n      <td>Retail - Home Improvement</td>\n      <td>S</td>\n      <td>Asia</td>\n      <td>T</td>\n      <td>1</td>\n      <td>25</td>\n      <td>1_Training</td>\n    </tr>\n    <tr>\n      <th>85392</th>\n      <td>156.380290</td>\n      <td>keyed</td>\n      <td>Education and Instruction</td>\n      <td>S</td>\n      <td>USA</td>\n      <td>T</td>\n      <td>2</td>\n      <td>25</td>\n      <td>1_Training</td>\n    </tr>\n  </tbody>\n</table>\n<p>85393 rows \u00d7 9 columns</p>\n</div>", 
                        "text/plain": "       Dollar_Amount Transaction_Type  \\\n0         188.560000           swiped   \n1         160.540000            keyed   \n2         153.240000           swiped   \n3         148.660000            keyed   \n4         174.030000            keyed   \n5         171.950000           swiped   \n6         171.720000            keyed   \n7         147.310000           swiped   \n8         164.390000           swiped   \n9         143.110000            keyed   \n10        171.160000            keyed   \n11        152.980000            keyed   \n12        126.300000           swiped   \n13        126.300000           swiped   \n14        159.340000           swiped   \n15        145.600000            keyed   \n16        153.740000           swiped   \n17        187.410000           swiped   \n18        152.980000            keyed   \n19        173.000000           swiped   \n20        198.040000            keyed   \n21        159.340000           swiped   \n22        168.040000           swiped   \n23        168.040000           swiped   \n24        173.000000           swiped   \n25        187.410000           swiped   \n26        145.600000            keyed   \n27        198.040000            keyed   \n28        153.740000           swiped   \n29        181.160000            keyed   \n...              ...              ...   \n85363     119.984660           swiped   \n85364     206.342404            keyed   \n85365     155.827493           swiped   \n85366     163.083534           swiped   \n85367     212.522201           swiped   \n85368     185.839844           swiped   \n85369     152.491191           swiped   \n85370     155.762020            keyed   \n85371     135.553549           swiped   \n85372     131.333544           swiped   \n85373     163.576593            keyed   \n85374     191.169128           swiped   \n85375     194.896730           swiped   \n85376     148.527932           swiped   \n85377     169.680357           swiped   \n85378     157.841236           swiped   \n85379     178.272000           swiped   \n85380     162.890703           swiped   \n85381     164.810140           swiped   \n85382     179.425730           swiped   \n85383     183.292593           swiped   \n85384     148.089690           swiped   \n85385     157.676325           swiped   \n85386     171.128881           swiped   \n85387     190.234787            keyed   \n85388     161.029570            keyed   \n85389     150.965645           swiped   \n85390     140.284867           swiped   \n85391     155.104994           swiped   \n85392     156.380290            keyed   \n\n                                    Store_Type Cardholder_Region  \\\n0                               ATM Withdrawal                 E   \n1                                      Grocery                NE   \n2                            Retail - Pharmacy                SW   \n3      Communications - telephone and wireless                NW   \n4                                   Spa/Beauty                SW   \n5                    Retail - Home Improvement                SE   \n6                                    Utilities                NW   \n7      Communications - telephone and wireless                 N   \n8                                      Grocery                 N   \n9                             Retail - Apparel                 E   \n10                                  Restaurant                NE   \n11                              Retail - Books                NE   \n12                   Retail - Home Improvement                 S   \n13                   Retail - Home Improvement                 S   \n14                Retail - Jewelry and Watches                 E   \n15                              ATM Withdrawal                 S   \n16                                    e-Retail                 E   \n17                                     Grocery                 S   \n18                              Retail - Books                NE   \n19                                    e-Retail                NE   \n20                                       Other                 W   \n21                Retail - Jewelry and Watches                 E   \n22                              ATM Withdrawal                 W   \n23                              ATM Withdrawal                 W   \n24                                    e-Retail                NE   \n25                                     Grocery                 S   \n26                              ATM Withdrawal                 S   \n27                                       Other                 W   \n28                                    e-Retail                 E   \n29                           Retail - Pharmacy                 N   \n...                                        ...               ...   \n85363                   Entertainment and Arts                 S   \n85364                Retail - Home Electronics                SW   \n85365                                    Other                NW   \n85366                            Retail - Toys                 W   \n85367                      Retail - Drug Store                NW   \n85368                           Retail - Books                 N   \n85369                                  Grocery                NW   \n85370                           Retail - Books                 S   \n85371                       Retail - Furniture                NE   \n85372                      Retail - Drug Store                 N   \n85373                Education and Instruction                NE   \n85374                   Entertainment and Arts                NW   \n85375                                      Gas                NW   \n85376                        Retail - Pharmacy                 N   \n85377                           ATM Withdrawal                NE   \n85378               Retail - Convenience Store                SW   \n85379                            Retail - Toys                NE   \n85380                               Restaurant                 S   \n85381                                    Hotel                NW   \n85382                                  Grocery                 N   \n85383                               Spa/Beauty                SW   \n85384                       Retail - Furniture                 N   \n85385                          Retail - Floral                SE   \n85386                                    Other                 W   \n85387                                    Hotel                 S   \n85388                                  Grocery                NE   \n85389                Retail - Home Improvement                NE   \n85390                Retail - Home Improvement                SW   \n85391                Retail - Home Improvement                 S   \n85392                Education and Instruction                 S   \n\n              Country Fraudulent  Last3hourTransactions  \\\n0                 USA          F                      4   \n1           Australia          F                      3   \n2      European Union          T                      2   \n3                 USA          F                      1   \n4                Asia          F                      1   \n5                 USA          F                      1   \n6                 USA          F                      1   \n7           Australia          T                      1   \n8                 USA          F                      3   \n9                 USA          F                      1   \n10                USA          F                      3   \n11                USA          F                      2   \n12                USA          F                      1   \n13                USA          F                      2   \n14     European Union          F                      1   \n15          Australia          T                      2   \n16                USA          F                      3   \n17                USA          F                      1   \n18                USA          F                      1   \n19     European Union          T                      2   \n20                USA          F                      2   \n21     European Union          F                      1   \n22                USA          T                      2   \n23                USA          F                      1   \n24     European Union          F                      1   \n25                USA          F                      2   \n26          Australia          T                      2   \n27                USA          F                      1   \n28                USA          F                      2   \n29                USA          F                      2   \n...               ...        ...                    ...   \n85363       Australia          T                      4   \n85364             USA          T                      3   \n85365  European Union          T                      2   \n85366            Asia          T                      3   \n85367  European Union          T                      3   \n85368       Australia          T                      3   \n85369       Australia          T                      3   \n85370       Australia          T                      3   \n85371            Asia          T                      2   \n85372            Asia          T                      2   \n85373  European Union          T                      2   \n85374             USA          T                      1   \n85375             USA          T                      5   \n85376            Asia          T                      2   \n85377       Australia          T                      4   \n85378  European Union          T                      3   \n85379       Australia          T                      2   \n85380  European Union          T                      2   \n85381             USA          T                      1   \n85382            Asia          T                      3   \n85383             USA          T                      4   \n85384             USA          T                      2   \n85385       Australia          T                      2   \n85386  European Union          T                      2   \n85387             USA          T                      2   \n85388  European Union          T                      2   \n85389       Australia          T                      2   \n85390             USA          T                      1   \n85391            Asia          T                      1   \n85392             USA          T                      2   \n\n       Hours_Since_Last_Transaction   Partition  \n0                                21  1_Training  \n1                                21  1_Training  \n2                                21  1_Training  \n3                                35   2_Testing  \n4                                25  1_Training  \n5                                15  1_Training  \n6                                15  1_Training  \n7                                13  1_Training  \n8                                30  1_Training  \n9                                23  1_Training  \n10                               18  1_Training  \n11                               21  1_Training  \n12                               18   2_Testing  \n13                               14  1_Training  \n14                               23   2_Testing  \n15                               22   2_Testing  \n16                               27  1_Training  \n17                               35  1_Training  \n18                               21  1_Training  \n19                               22  1_Training  \n20                               20  1_Training  \n21                               24   2_Testing  \n22                               21  1_Training  \n23                               15  1_Training  \n24                               13  1_Training  \n25                               22  1_Training  \n26                               24   2_Testing  \n27                               23   2_Testing  \n28                               24  1_Training  \n29                               23  1_Training  \n...                             ...         ...  \n85363                            24  1_Training  \n85364                            24  1_Training  \n85365                            20  1_Training  \n85366                            25  1_Training  \n85367                            20  1_Training  \n85368                            26  1_Training  \n85369                            23  1_Training  \n85370                            25  1_Training  \n85371                            26  1_Training  \n85372                            20  1_Training  \n85373                            26  1_Training  \n85374                            16  1_Training  \n85375                            22  1_Training  \n85376                            26  1_Training  \n85377                            19  1_Training  \n85378                            25  1_Training  \n85379                            26  1_Training  \n85380                            30  1_Training  \n85381                            23  1_Training  \n85382                            21  1_Training  \n85383                            27  1_Training  \n85384                            26  1_Training  \n85385                            23  1_Training  \n85386                            32  1_Training  \n85387                            23  1_Training  \n85388                            24  1_Training  \n85389                            18  1_Training  \n85390                            23  1_Training  \n85391                            25  1_Training  \n85392                            25  1_Training  \n\n[85393 rows x 9 columns]"
                    }, 
                    "output_type": "execute_result"
                }
            ], 
            "source": "SMOTEoutput"
        }, 
        {
            "source": "## Using SMOTE output from SPSS\n\nTo control the randomness from Train/Test split and SMOTE, we tried using the SMOTE output from SPSS directly.", 
            "cell_type": "markdown", 
            "metadata": {}
        }, 
        {
            "execution_count": 29, 
            "cell_type": "code", 
            "metadata": {}, 
            "outputs": [
                {
                    "execution_count": 29, 
                    "metadata": {}, 
                    "data": {
                        "text/html": "<div>\n<style scoped>\n    .dataframe tbody tr th:only-of-type {\n        vertical-align: middle;\n    }\n\n    .dataframe tbody tr th {\n        vertical-align: top;\n    }\n\n    .dataframe thead th {\n        text-align: right;\n    }\n</style>\n<table border=\"1\" class=\"dataframe\">\n  <thead>\n    <tr style=\"text-align: right;\">\n      <th></th>\n      <th>Dollar_Amount</th>\n      <th>Transaction_Type</th>\n      <th>Store_Type</th>\n      <th>Cardholder_Region</th>\n      <th>Country</th>\n      <th>Fraudulent</th>\n      <th>Last3hourTransactions</th>\n      <th>Hours_Since_Last_Transaction</th>\n      <th>Partition</th>\n    </tr>\n  </thead>\n  <tbody>\n    <tr>\n      <th>0</th>\n      <td>188.56</td>\n      <td>swiped</td>\n      <td>ATM Withdrawal</td>\n      <td>E</td>\n      <td>USA</td>\n      <td>F</td>\n      <td>4</td>\n      <td>21</td>\n      <td>1_Training</td>\n    </tr>\n    <tr>\n      <th>1</th>\n      <td>160.54</td>\n      <td>keyed</td>\n      <td>Grocery</td>\n      <td>NE</td>\n      <td>Australia</td>\n      <td>F</td>\n      <td>3</td>\n      <td>21</td>\n      <td>1_Training</td>\n    </tr>\n    <tr>\n      <th>2</th>\n      <td>153.24</td>\n      <td>swiped</td>\n      <td>Retail - Pharmacy</td>\n      <td>SW</td>\n      <td>European Union</td>\n      <td>T</td>\n      <td>2</td>\n      <td>21</td>\n      <td>1_Training</td>\n    </tr>\n    <tr>\n      <th>3</th>\n      <td>148.66</td>\n      <td>keyed</td>\n      <td>Communications - telephone and wireless</td>\n      <td>NW</td>\n      <td>USA</td>\n      <td>F</td>\n      <td>1</td>\n      <td>35</td>\n      <td>2_Testing</td>\n    </tr>\n    <tr>\n      <th>4</th>\n      <td>174.03</td>\n      <td>keyed</td>\n      <td>Spa/Beauty</td>\n      <td>SW</td>\n      <td>Asia</td>\n      <td>F</td>\n      <td>1</td>\n      <td>25</td>\n      <td>1_Training</td>\n    </tr>\n  </tbody>\n</table>\n</div>", 
                        "text/plain": "   Dollar_Amount Transaction_Type                               Store_Type  \\\n0         188.56           swiped                           ATM Withdrawal   \n1         160.54            keyed                                  Grocery   \n2         153.24           swiped                        Retail - Pharmacy   \n3         148.66            keyed  Communications - telephone and wireless   \n4         174.03            keyed                               Spa/Beauty   \n\n  Cardholder_Region         Country Fraudulent  Last3hourTransactions  \\\n0                 E             USA          F                      4   \n1                NE       Australia          F                      3   \n2                SW  European Union          T                      2   \n3                NW             USA          F                      1   \n4                SW            Asia          F                      1   \n\n   Hours_Since_Last_Transaction   Partition  \n0                            21  1_Training  \n1                            21  1_Training  \n2                            21  1_Training  \n3                            35   2_Testing  \n4                            25  1_Training  "
                    }, 
                    "output_type": "execute_result"
                }
            ], 
            "source": "SMOTEoutput = pd.read_csv(get_object_storage_file_with_credentials_79f48b7520e04b748bcd13ec11f1f911('Defaultproject', 'modeler_smoteout.csv'))\nSMOTEoutput = SMOTEoutput.drop(['Account_Number','Transaction_Time', 'last transaction time', 'Hours Since Last Transaction', 'Transaction_Dates',\t'Last_Trasaction_Dates'], 1)\n\n\nSMOTEoutput.head()"
        }, 
        {
            "execution_count": 30, 
            "cell_type": "code", 
            "metadata": {}, 
            "outputs": [], 
            "source": "train = SMOTEoutput[SMOTEoutput.Partition == \"1_Training\"].drop('Partition', 1)\ntest = SMOTEoutput[SMOTEoutput.Partition == \"2_Testing\"].drop('Partition', 1)\n\ny = train['Fraudulent'].map(lambda l: 1 if l == 'T' else 0)\nX = pd.get_dummies(train.drop(['Fraudulent'], axis=1))\n\ny_test_spss = test['Fraudulent'].map(lambda l: 1 if l == 'T' else 0)\nX_test_spss = pd.get_dummies(test.drop(['Fraudulent'], axis=1))"
        }, 
        {
            "execution_count": 34, 
            "cell_type": "code", 
            "metadata": {}, 
            "outputs": [
                {
                    "output_type": "stream", 
                    "name": "stdout", 
                    "text": "[0]\tvalidation_0-auc:0.741674\tvalidation_1-auc:0.596681\n[1]\tvalidation_0-auc:0.741682\tvalidation_1-auc:0.596703\n[2]\tvalidation_0-auc:0.741715\tvalidation_1-auc:0.596687\n[3]\tvalidation_0-auc:0.741686\tvalidation_1-auc:0.596724\n[4]\tvalidation_0-auc:0.741683\tvalidation_1-auc:0.596735\n[5]\tvalidation_0-auc:0.741686\tvalidation_1-auc:0.596731\n[6]\tvalidation_0-auc:0.741685\tvalidation_1-auc:0.596736\n[7]\tvalidation_0-auc:0.741686\tvalidation_1-auc:0.59673\n[8]\tvalidation_0-auc:0.741685\tvalidation_1-auc:0.596742\n[9]\tvalidation_0-auc:0.741686\tvalidation_1-auc:0.59673\n"
                }, 
                {
                    "execution_count": 34, 
                    "metadata": {}, 
                    "data": {
                        "text/plain": "XGBClassifier(base_score=0.5, booster='gbtree', colsample_bylevel=1.0,\n       colsample_bytree=1.0, gamma=0.0, learning_rate=0.0001,\n       max_delta_step=0.0, max_depth=6, min_child_weight=1.0, missing=None,\n       n_estimators=10, n_jobs=1, nthread=None,\n       objective='binary:logistic', random_state=0, reg_alpha=0.0,\n       reg_lambda=1.0, scale_pos_weight=2.0, seed=6924827, silent=True,\n       subsample=1.0, tree_method='auto')"
                    }, 
                    "output_type": "execute_result"
                }
            ], 
            "source": "xgb_model2 = XGBClassifier(\n    tree_method= \"auto\",\n    n_estimators = 10,\n    max_depth = 6,\n    min_child_weight = 1.0,\n    max_delta_step = 0.0,\n    objective = \"binary:logistic\",\n    seed = 6924827,\n    subsample = 1.0,\n    learning_rate = .0001,\n    gamma = 0.0,\n    colsample_bytree = 1.0,\n    colsample_bylevel = 1.0,\n    reg_lambda = 1.0,\n    reg_alpha = 0.0,\n    scale_pos_weight = 2.0)\nxgb_model2.fit(X.as_matrix(), y, eval_set = [(X.as_matrix(), y), (X_test_spss.as_matrix(), y_test_spss)], eval_metric = \"auc\", verbose = True)"
        }, 
        {
            "execution_count": 35, 
            "cell_type": "code", 
            "metadata": {}, 
            "outputs": [
                {
                    "output_type": "stream", 
                    "name": "stderr", 
                    "text": "/gpfs/fs01/user/s34f-24c5585e483e16-c0ce2641d0ef/.local/lib/python3.5/site-packages/sklearn/preprocessing/label.py:151: DeprecationWarning: The truth value of an empty array is ambiguous. Returning False, but in future this will result in an error. Use `array.size > 0` to check that an array is not empty.\n  if diff:\n"
                }
            ], 
            "source": "pred_classifier_spssoutput = xgb_model2.predict(X_test_spss.as_matrix())"
        }, 
        {
            "execution_count": 36, 
            "cell_type": "code", 
            "metadata": {}, 
            "outputs": [
                {
                    "output_type": "stream", 
                    "name": "stdout", 
                    "text": "ROC: 0.5753863369337515\n"
                }
            ], 
            "source": "roc2 = roc_auc_score(y_test_spss, pred_classifier_spssoutput)\nprint(\"ROC: \" +  str(roc2))"
        }, 
        {
            "source": "Still the ROC is different. ", 
            "cell_type": "markdown", 
            "metadata": {}
        }, 
        {
            "source": "## Appendix\n\nSome screenshots from SPSS:\n<img src=\"https://github.com/CatherineCao2016/pics/raw/master/xgb_modeler_1.png\" width=\"500\" height=\"200\" align=\"middle\"/>\n<img src=\"https://github.com/CatherineCao2016/pics/raw/master/xgb_modeler_2.png\" width=\"400\" height=\"200\" align=\"middle\"/>\n<img src=\"https://github.com/CatherineCao2016/pics/raw/master/xgb_modeler_3.png\" width=\"400\" height=\"200\" align=\"middle\"/>\n<img src=\"https://github.com/CatherineCao2016/pics/raw/master/xgb_modeler_4.png\" width=\"400\" height=\"200\" align=\"middle\"/>\n<img src=\"https://github.com/CatherineCao2016/pics/raw/master/xgb_modeler_5.png\" width=\"400\" height=\"200\" align=\"middle\"/>", 
            "cell_type": "markdown", 
            "metadata": {}
        }
    ], 
    "metadata": {
        "kernelspec": {
            "display_name": "Python 3.5 with Spark 2.1", 
            "name": "python3-spark21", 
            "language": "python"
        }, 
        "language_info": {
            "mimetype": "text/x-python", 
            "nbconvert_exporter": "python", 
            "version": "3.5.4", 
            "name": "python", 
            "file_extension": ".py", 
            "pygments_lexer": "ipython3", 
            "codemirror_mode": {
                "version": 3, 
                "name": "ipython"
            }
        }
    }, 
    "nbformat": 4
}